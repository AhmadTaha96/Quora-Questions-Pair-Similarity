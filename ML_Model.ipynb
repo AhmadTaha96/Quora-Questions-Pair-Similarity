{
  "nbformat": 4,
  "nbformat_minor": 0,
  "metadata": {
    "colab": {
      "name": "ML Model.ipynb",
      "provenance": [],
      "collapsed_sections": [
        "YwGi_7p7uEWB",
        "-HxatkrjtxXT",
        "kNt0pL_wlG3m"
      ],
      "authorship_tag": "ABX9TyPsTHzThGLBe21ZyoFRGsi4"
    },
    "kernelspec": {
      "name": "python3",
      "display_name": "Python 3"
    },
    "language_info": {
      "name": "python"
    }
  },
  "cells": [
    {
      "cell_type": "markdown",
      "metadata": {
        "id": "YwGi_7p7uEWB"
      },
      "source": [
        "# Importing Libraries"
      ]
    },
    {
      "cell_type": "code",
      "metadata": {
        "id": "hJRb6t9nrutw"
      },
      "source": [
        "import numpy as np\n",
        "import pandas as pd\n",
        "import matplotlib.pyplot as plt\n",
        "import seaborn as sns\n",
        "from sklearn.metrics import log_loss, accuracy_score, confusion_matrix, precision_score, recall_score\n",
        "from sklearn.preprocessing import MinMaxScaler\n",
        "import shutil\n",
        "import tensorflow as tf\n",
        "from catboost import CatBoostClassifier"
      ],
      "execution_count": null,
      "outputs": []
    },
    {
      "cell_type": "markdown",
      "metadata": {
        "id": "-HxatkrjtxXT"
      },
      "source": [
        "# Desing ML Model"
      ]
    },
    {
      "cell_type": "code",
      "metadata": {
        "id": "AXCaUB2Or2wF"
      },
      "source": [
        "# Reading data with original 69 Features\n",
        "train_data = pd.read_csv(\"Data/train_data.csv\", compression = \"bz2\")\n",
        "test_data = pd.read_csv(\"Data/test_data.csv\", compression = \"bz2\")\n",
        "\n",
        "# Reading questions-based features\n",
        "train_vectors = pd.read_pickle(\"train_vectors.pkl\", compression = \"bz2\")\n",
        "test_vectors = pd.read_pickle(\"test_vectors.pkl\", compression = \"bz2\")"
      ],
      "execution_count": null,
      "outputs": []
    },
    {
      "cell_type": "code",
      "metadata": {
        "colab": {
          "base_uri": "https://localhost:8080/"
        },
        "id": "WhU-FQ11g8lC",
        "outputId": "1a077141-cff9-440b-bad0-06acabc242ee"
      },
      "source": [
        "print(\"Number of rows in train data =\", train_data.shape[0])\n",
        "print(\"Number of columns in train data =\", train_data.shape[1])"
      ],
      "execution_count": null,
      "outputs": [
        {
          "output_type": "stream",
          "name": "stdout",
          "text": [
            "Number of rows in train data = 323443\n",
            "Number of columns in train data = 69\n"
          ]
        }
      ]
    },
    {
      "cell_type": "code",
      "metadata": {
        "colab": {
          "base_uri": "https://localhost:8080/"
        },
        "id": "HCUVwS-Shs3g",
        "outputId": "8fc57c4f-ae0b-485c-8223-d900d16a4969"
      },
      "source": [
        "print(\"Number of rows in test data =\", test_data.shape[0])\n",
        "print(\"Number of columns in test data =\", test_data.shape[1])"
      ],
      "execution_count": null,
      "outputs": [
        {
          "output_type": "stream",
          "name": "stdout",
          "text": [
            "Number of rows in test data = 80868\n",
            "Number of columns in test data = 69\n"
          ]
        }
      ]
    },
    {
      "cell_type": "code",
      "metadata": {
        "colab": {
          "base_uri": "https://localhost:8080/"
        },
        "id": "HqTJD1gshtCE",
        "outputId": "0d936e90-1f74-480f-c510-56a87091e6c0"
      },
      "source": [
        "print(\"Number of rows in train vectors =\", train_vectors.shape[0])\n",
        "print(\"Number of columns in train vectors =\", train_vectors.shape[1])"
      ],
      "execution_count": null,
      "outputs": [
        {
          "output_type": "stream",
          "name": "stdout",
          "text": [
            "Number of rows in train vectors = 323443\n",
            "Number of columns in train vectors = 300\n"
          ]
        }
      ]
    },
    {
      "cell_type": "code",
      "metadata": {
        "colab": {
          "base_uri": "https://localhost:8080/"
        },
        "id": "t2lYoe89htJq",
        "outputId": "4796bc13-cf63-46b1-c6d7-fc9b5e370588"
      },
      "source": [
        "print(\"Number of rows in train vectors =\", test_vectors.shape[0])\n",
        "print(\"Number of columns in train vectors =\", test_vectors.shape[1])"
      ],
      "execution_count": null,
      "outputs": [
        {
          "output_type": "stream",
          "name": "stdout",
          "text": [
            "Number of rows in train vectors = 80868\n",
            "Number of columns in train vectors = 300\n"
          ]
        }
      ]
    },
    {
      "cell_type": "markdown",
      "metadata": {
        "id": "DYUnJzQAh8rH"
      },
      "source": [
        "Now we will choose the columns we need out of our original features space, it seem to say that the features i designed using log transformation caused some problem when applying log on zero or near-zero values, and that has impacted a wide range on data, so i choose to discard those feautres and drop them out of features space.\n",
        "\n",
        "If we choose to let them, we have to modify log transformation we have applied on the data so we don't have to do log on zero values as in our first processing, and there is various way to fix this issues."
      ]
    },
    {
      "cell_type": "code",
      "metadata": {
        "id": "QQyuZi-NsQZ6"
      },
      "source": [
        "cols = ['question1_len', 'question2_len', 'question1_freq',\n",
        "       'question2_freq', 'len_diff', 'question1_n_words', 'question2_n_words',\n",
        "       'words_diff', 'words_common', 'words_share', 'frequency_sum',\n",
        "       'frequency_diff', 'words_share_square',\n",
        "       'words_common_square', 'cw_to_min_c', 'cw_to_max_c', 'cs_to_min_c',\n",
        "       'cs_to_max_c', 'ct_to_min_c', 'ct_to_max_c', 'last_equal',\n",
        "       'first_equal', 'tokens_diff', 'sequence_matcher',\n",
        "       'levenshtein_distance', 'token_set_ratio', 'token_sort_ratio',\n",
        "       'fuzzy_ratio', 'fuzzy_partial_ratio', 'lognest_substring_ratio',\n",
        "       'ecludian_distance', 'ct_to_max_c_root', 'ct_to_max_c_sin',\n",
        "       'ct_to_min_c_cos', 'ct_to_min_c_root','ct_to_min_c_sin', 'ct_to_min_c_square', \n",
        "        'cw_to_min_c_root','cw_to_min_c_cos', 'cw_to_max_c_root', 'cw_to_max_c_sin',\n",
        "       'levenshtein_distance_root','levenshtein_distance_sin','lognest_substring_ratio_sin',\n",
        "       'fuzzy_ratio_root', 'fuzzy_partial_ratio_root', 'token_sort_ratio_root',\n",
        "       'token_sort_ratio_square', 'token_set_ratio_root',\n",
        "       'sequence_matcher_cos', 'sequence_matcher_root',\n",
        "       'sequence_matcher_sin', 'sequence_matcher_square',\n",
        "       'sequence_matcher_cube', \"is_duplicate\"]\n",
        "      \n",
        "train_data = train_data[cols]\n",
        "test_data = test_data[cols]"
      ],
      "execution_count": null,
      "outputs": []
    },
    {
      "cell_type": "code",
      "metadata": {
        "id": "Un375MtfsQsE"
      },
      "source": [
        "y_test = test_data[[\"is_duplicate\"]]\n",
        "y_train = train_data[[\"is_duplicate\"]]\n",
        "\n",
        "train_data.drop([\"is_duplicate\"], axis = 1, inplace = True)\n",
        "test_data.drop([\"is_duplicate\"], axis = 1, inplace = True)\n",
        "\n",
        "x_train = train_data\n",
        "x_test = test_data"
      ],
      "execution_count": null,
      "outputs": []
    },
    {
      "cell_type": "code",
      "metadata": {
        "colab": {
          "base_uri": "https://localhost:8080/"
        },
        "id": "9mWYq9tGiwvo",
        "outputId": "bc1b7790-32f5-4e05-c461-c7e6cb091eed"
      },
      "source": [
        "print(\"Number of rows in x_train =\", x_train.shape[0])\n",
        "print(\"Number of columns in x_train =\", x_train.shape[1])"
      ],
      "execution_count": null,
      "outputs": [
        {
          "output_type": "stream",
          "name": "stdout",
          "text": [
            "Number of rows in x_train = 323443\n",
            "Number of columns in x_train = 54\n"
          ]
        }
      ]
    },
    {
      "cell_type": "code",
      "metadata": {
        "colab": {
          "base_uri": "https://localhost:8080/"
        },
        "id": "xZJCXoHsi6cJ",
        "outputId": "0e4ed220-45ba-4ff6-a383-4daa87c94362"
      },
      "source": [
        "print(\"Number of rows in x_test =\", x_test.shape[0])\n",
        "print(\"Number of columns in x_test =\", x_test.shape[1])"
      ],
      "execution_count": null,
      "outputs": [
        {
          "output_type": "stream",
          "name": "stdout",
          "text": [
            "Number of rows in x_test = 80868\n",
            "Number of columns in x_test = 54\n"
          ]
        }
      ]
    },
    {
      "cell_type": "code",
      "metadata": {
        "id": "zKddvFQdsg7U"
      },
      "source": [
        "# Mergin original features with questions vectors\n",
        "\n",
        "x_train = np.hstack((x_train ,train_vectors))\n",
        "x_test = np.hstack((x_test,  test_vectors))"
      ],
      "execution_count": null,
      "outputs": []
    },
    {
      "cell_type": "markdown",
      "metadata": {
        "id": "srX6R1i7jyTN"
      },
      "source": [
        "Now after we have finished calling, mergin aka prepering our data, we have to prepare some validation data to use it in our model so to monitor the best performance, and as we did not split this data at first, we can't take it now for train data so we have to split it from test data as follow."
      ]
    },
    {
      "cell_type": "code",
      "metadata": {
        "id": "5GJhXNSrsnN-"
      },
      "source": [
        "x_valid = x_test[-30000:]\n",
        "y_valid = y_test[-30000:]\n",
        "\n",
        "x_test = x_test[:-30000]\n",
        "y_test = y_test[:-30000]"
      ],
      "execution_count": null,
      "outputs": []
    },
    {
      "cell_type": "code",
      "metadata": {
        "id": "yAJVOylEsopM"
      },
      "source": [
        "y_train = y_train.values\n",
        "y_valid = y_valid.values\n",
        "y_test = y_test.values\n",
        "\n",
        "\n",
        "y_train = y_train.ravel()\n",
        "y_valid = y_valid.ravel()\n",
        "y_test = y_test.ravel()"
      ],
      "execution_count": null,
      "outputs": []
    },
    {
      "cell_type": "markdown",
      "metadata": {
        "id": "s5HhbfxNlNAb"
      },
      "source": [
        "Remember our main task is to increase **Precision**, and of course if we do that we don't the **Recall** to drop down, but here let's be more specific, our main concern is to reduce **False Positive** ratio aka **FP**, because **False Positive** means that we have predicted two questions to be duplicate while they are not and that's as i mentioned earlier is really dangerous because in this case whis would yield not related answers to some questions and that is really bad, while if two questions are indeed duplicate and our model predict them to be not duplicate this is bad but not as bad as the previous case but of course we don't want that as well, because in this case our model will not work properly so not predicting anything useful."
      ]
    },
    {
      "cell_type": "markdown",
      "metadata": {
        "id": "FMb5VKcMtByg"
      },
      "source": [
        "Now, we shall try ML alogorithm specifically GBDT using CatBoost as it turened to be the most suitable one for this problem."
      ]
    },
    {
      "cell_type": "code",
      "metadata": {
        "id": "RxiyrJBvs7_g"
      },
      "source": [
        "clf = CatBoostClassifier(task_type = \"GPU\", bootstrap_type = \"Bernoulli\", n_estimators = 54000, depth = 9, fold_permutation_block = 250, learning_rate = 0.007 , rsm = 1. , subsample = 0.05, reg_lambda = 1500)"
      ],
      "execution_count": null,
      "outputs": []
    },
    {
      "cell_type": "code",
      "metadata": {
        "id": "XYIRql5peSCM",
        "colab": {
          "base_uri": "https://localhost:8080/"
        },
        "outputId": "bdfdb684-2022-4854-838b-e4eaec758c11"
      },
      "source": [
        "#: 'Poisson', 'Bayesian', 'Bernoulli', 'MVS', 'No'. \n",
        "clf.fit(x_train, y_train,  eval_set = (x_valid, y_valid), use_best_model = True, verbose = 2)"
      ],
      "execution_count": null,
      "outputs": [
        {
          "output_type": "stream",
          "name": "stdout",
          "text": [
            "53982:\tlearn: 0.2407718\ttest: 0.3581872\tbest: 0.3581872 (53982)\ttotal: 46m 4s\tremaining: 871ms\n",
            "53984:\tlearn: 0.2407689\ttest: 0.3581857\tbest: 0.3581857 (53983)\ttotal: 46m 4s\tremaining: 768ms\n",
            "53986:\tlearn: 0.2407648\ttest: 0.3581841\tbest: 0.3581841 (53986)\ttotal: 46m 5s\tremaining: 666ms\n",
            "53988:\tlearn: 0.2407623\ttest: 0.3581832\tbest: 0.3581832 (53988)\ttotal: 46m 5s\tremaining: 563ms\n",
            "53990:\tlearn: 0.2407583\ttest: 0.3581825\tbest: 0.3581824 (53989)\ttotal: 46m 5s\tremaining: 461ms\n",
            "53992:\tlearn: 0.2407542\ttest: 0.3581815\tbest: 0.3581815 (53992)\ttotal: 46m 5s\tremaining: 359ms\n",
            "53994:\tlearn: 0.2407513\ttest: 0.3581803\tbest: 0.3581803 (53994)\ttotal: 46m 5s\tremaining: 256ms\n",
            "53996:\tlearn: 0.2407499\ttest: 0.3581803\tbest: 0.3581803 (53994)\ttotal: 46m 5s\tremaining: 154ms\n",
            "53998:\tlearn: 0.2407459\ttest: 0.3581796\tbest: 0.3581796 (53998)\ttotal: 46m 5s\tremaining: 51.2ms\n",
            "53999:\tlearn: 0.2407452\ttest: 0.3581796\tbest: 0.3581796 (53998)\ttotal: 46m 5s\tremaining: 0us\n",
            "bestTest = 0.3581795573\n",
            "bestIteration = 53998\n",
            "Shrink model to first 53999 iterations.\n"
          ]
        },
        {
          "output_type": "execute_result",
          "data": {
            "text/plain": [
              "<catboost.core.CatBoostClassifier at 0x7f6e7ed560d0>"
            ]
          },
          "metadata": {},
          "execution_count": 21
        }
      ]
    },
    {
      "cell_type": "code",
      "metadata": {
        "id": "aphli6_ftIiA"
      },
      "source": [
        "y_train_prob = clf.predict_proba(x_train)\n",
        "y_valid_prob = clf.predict_proba(x_valid)"
      ],
      "execution_count": null,
      "outputs": []
    },
    {
      "cell_type": "code",
      "metadata": {
        "id": "pdEZ5IVCtI1O"
      },
      "source": [
        "y_train_pred = clf.predict(x_train)\n",
        "y_valid_pred = clf.predict(x_valid)"
      ],
      "execution_count": null,
      "outputs": []
    },
    {
      "cell_type": "code",
      "metadata": {
        "colab": {
          "base_uri": "https://localhost:8080/"
        },
        "id": "Rc4nEIRrzIX3",
        "outputId": "ad44eb0a-5afb-4815-b1fb-a000c1ee2b22"
      },
      "source": [
        "print(\"Log Loss for train data =\", log_loss(y_train, y_train_prob))\n",
        "print(\"*********************************************\")\n",
        "print(\"Log Loss for valid data =\", log_loss(y_valid, y_valid_prob))"
      ],
      "execution_count": null,
      "outputs": [
        {
          "output_type": "stream",
          "name": "stdout",
          "text": [
            "Log Loss for train data = 0.2407459460883208\n",
            "*********************************************\n",
            "Log Loss for valid data = 0.3581795077103383\n"
          ]
        }
      ]
    },
    {
      "cell_type": "code",
      "metadata": {
        "colab": {
          "base_uri": "https://localhost:8080/"
        },
        "id": "Z3X8Joh0zarg",
        "outputId": "cd2b1bc2-c1b2-41af-ca12-4e1b9037a6bf"
      },
      "source": [
        "print(\"Precision Score for train data =\", precision_score(y_train, y_train_pred) * 100)\n",
        "print(\"*********************************************\")\n",
        "print(\"Precision Score for valid data =\", precision_score(y_valid, y_valid_pred) * 100)"
      ],
      "execution_count": null,
      "outputs": [
        {
          "output_type": "stream",
          "name": "stdout",
          "text": [
            "Precision Score for train data = 89.57526702269692\n",
            "*********************************************\n",
            "Precision Score for valid data = 76.89224459358688\n"
          ]
        }
      ]
    },
    {
      "cell_type": "code",
      "metadata": {
        "colab": {
          "base_uri": "https://localhost:8080/",
          "height": 499
        },
        "id": "b4xBhXMm1EB0",
        "outputId": "266688e5-e567-4f15-d195-f443691fe75c"
      },
      "source": [
        "plt.figure(figsize = (10, 8))\n",
        "sns.heatmap(confusion_matrix(y_train , y_train_pred), annot = True, fmt = \"d\", cmap = \"Blues\")\n",
        "plt.title(\"Confusion Matrix For Train Data\")\n",
        "plt.show()"
      ],
      "execution_count": null,
      "outputs": [
        {
          "output_type": "display_data",
          "data": {
            "image/png": "[encoded data removed]",
            "text/plain": [
              "<Figure size 720x576 with 2 Axes>"
            ]
          },
          "metadata": {
            "needs_background": "light"
          }
        }
      ]
    },
    {
      "cell_type": "code",
      "metadata": {
        "colab": {
          "base_uri": "https://localhost:8080/",
          "height": 499
        },
        "id": "KAjN5xGT2ies",
        "outputId": "9d4e71f5-24bf-426f-f31c-57b83a1a4980"
      },
      "source": [
        "plt.figure(figsize = (10, 8))\n",
        "sns.heatmap(confusion_matrix(y_valid , y_valid_pred), annot = True, fmt = \"d\", cmap = \"Blues\")\n",
        "plt.title(\"Confusion Matrix For Valid Data\")\n",
        "plt.show()"
      ],
      "execution_count": null,
      "outputs": [
        {
          "output_type": "display_data",
          "data": {
            "image/png": "[encoded data removed]",
            "text/plain": [
              "<Figure size 720x576 with 2 Axes>"
            ]
          },
          "metadata": {
            "needs_background": "light"
          }
        }
      ]
    },
    {
      "cell_type": "code",
      "metadata": {
        "id": "knUDvvcttVga"
      },
      "source": [
        "y_train_pred1 = (y_train_prob[:, 1] >= 0.6)\n",
        "y_valid_pred1 = (y_valid_prob[:, 1] >= 0.6)"
      ],
      "execution_count": null,
      "outputs": []
    },
    {
      "cell_type": "code",
      "metadata": {
        "colab": {
          "base_uri": "https://localhost:8080/",
          "height": 499
        },
        "id": "gArBa_VS3Bmo",
        "outputId": "b310330c-5d1f-49af-b647-514e2031074e"
      },
      "source": [
        "plt.figure(figsize = (10, 8))\n",
        "sns.heatmap(confusion_matrix(y_train , y_train_pred1), annot = True, fmt = \"d\", cmap = \"Blues\")\n",
        "plt.title(\"Confusion Matrix For Train Data >= 0.6\")\n",
        "plt.show()"
      ],
      "execution_count": null,
      "outputs": [
        {
          "output_type": "display_data",
          "data": {
            "image/png": "[encoded data removed]",
            "text/plain": [
              "<Figure size 720x576 with 2 Axes>"
            ]
          },
          "metadata": {
            "needs_background": "light"
          }
        }
      ]
    },
    {
      "cell_type": "code",
      "metadata": {
        "colab": {
          "base_uri": "https://localhost:8080/",
          "height": 499
        },
        "id": "_TYPrdOT3Dwl",
        "outputId": "393e1579-686f-43e1-c6f0-884dd1e697f3"
      },
      "source": [
        "plt.figure(figsize = (10, 8))\n",
        "sns.heatmap(confusion_matrix(y_valid , y_valid_pred1), annot = True, fmt = \"d\", cmap = \"Blues\")\n",
        "plt.title(\"Confusion Matrix For Valid Data >= 0.6\")\n",
        "plt.show()"
      ],
      "execution_count": null,
      "outputs": [
        {
          "output_type": "display_data",
          "data": {
            "image/png": "[encoded data removed]",
            "text/plain": [
              "<Figure size 720x576 with 2 Axes>"
            ]
          },
          "metadata": {
            "needs_background": "light"
          }
        }
      ]
    },
    {
      "cell_type": "markdown",
      "metadata": {
        "id": "kNt0pL_wlG3m"
      },
      "source": [
        "# Evaluating ML Model on Test Data"
      ]
    },
    {
      "cell_type": "markdown",
      "metadata": {
        "id": "RcPSQcAFlMpg"
      },
      "source": [
        "Now after we have done building our two models, time to evaluate our model on test data, and this step happend only once at final stage, we can't test model performance on test data more than one time, otherwise this will not be reflect the actual result."
      ]
    },
    {
      "cell_type": "code",
      "metadata": {
        "id": "0UamRLnxpYkv"
      },
      "source": [
        "y_test_prob = clf.predict_proba(x_test)\n",
        "\n",
        "y_test_pred = clf.predict(x_test)"
      ],
      "execution_count": null,
      "outputs": []
    },
    {
      "cell_type": "code",
      "metadata": {
        "colab": {
          "base_uri": "https://localhost:8080/"
        },
        "id": "9uqKrfoNpYkw",
        "outputId": "8d9e06c9-ab79-4ca2-b198-58db705e4eb6"
      },
      "source": [
        "print(\"Log Loss for test data =\", log_loss(y_test, y_test_prob))"
      ],
      "execution_count": null,
      "outputs": [
        {
          "output_type": "stream",
          "name": "stdout",
          "text": [
            "Log Loss for test data = 0.3593969949461629\n"
          ]
        }
      ]
    },
    {
      "cell_type": "code",
      "metadata": {
        "colab": {
          "base_uri": "https://localhost:8080/"
        },
        "id": "aL3Hh1GSp2TV",
        "outputId": "ed52932f-a08e-430e-a7bb-821a4f6490f2"
      },
      "source": [
        "print(\"Precision Score for test data =\", precision_score(y_test, y_test_pred) * 100)"
      ],
      "execution_count": null,
      "outputs": [
        {
          "output_type": "stream",
          "name": "stdout",
          "text": [
            "Precision Score for test data = 77.20547945205479\n"
          ]
        }
      ]
    },
    {
      "cell_type": "code",
      "metadata": {
        "colab": {
          "base_uri": "https://localhost:8080/",
          "height": 499
        },
        "id": "d6qWBN8-qGiZ",
        "outputId": "b18eacd0-552b-4669-e0bb-f4da58758db2"
      },
      "source": [
        "plt.figure(figsize = (10, 8))\n",
        "sns.heatmap(confusion_matrix(y_test , y_test_pred), annot = True, fmt = \"d\", cmap = \"Blues\")\n",
        "plt.title(\"Confusion Matrix For Test Data\")\n",
        "plt.show()"
      ],
      "execution_count": null,
      "outputs": [
        {
          "output_type": "display_data",
          "data": {
            "image/png": "[encoded data removed]",
            "text/plain": [
              "<Figure size 720x576 with 2 Axes>"
            ]
          },
          "metadata": {
            "needs_background": "light"
          }
        }
      ]
    },
    {
      "cell_type": "code",
      "metadata": {
        "id": "Q53Og8HNqGmm"
      },
      "source": [
        "y_test_pred1 = (y_test_prob[:, 1] >= 0.6)"
      ],
      "execution_count": null,
      "outputs": []
    },
    {
      "cell_type": "code",
      "metadata": {
        "colab": {
          "base_uri": "https://localhost:8080/",
          "height": 499
        },
        "id": "71d3GWc-qeWC",
        "outputId": "69cb8c54-5dba-49d8-9580-ab2d01f3b940"
      },
      "source": [
        "plt.figure(figsize = (10, 8))\n",
        "sns.heatmap(confusion_matrix(y_test , y_test_pred1), annot = True, fmt = \"d\", cmap = \"Blues\")\n",
        "plt.title(\"Confusion Matrix For Test Data >= 0.6\")\n",
        "plt.show()"
      ],
      "execution_count": null,
      "outputs": [
        {
          "output_type": "display_data",
          "data": {
            "image/png": "[encoded data removed]",
            "text/plain": [
              "<Figure size 720x576 with 2 Axes>"
            ]
          },
          "metadata": {
            "needs_background": "light"
          }
        }
      ]
    }
  ]
}