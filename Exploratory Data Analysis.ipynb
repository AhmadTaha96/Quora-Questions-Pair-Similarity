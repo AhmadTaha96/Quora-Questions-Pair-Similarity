{
  "nbformat": 4,
  "nbformat_minor": 0,
  "metadata": {
    "colab": {
      "name": "Quora Question Pair Similarity.ipynb",
      "provenance": [],
      "collapsed_sections": [
        "apwS3Wi0mRQu"
      ],
      "mount_file_id": "1eYsvxYWl9FrZ_FvpQNIeA3bW0ntLAFxG",
      "authorship_tag": "ABX9TyOx5kcH6PmLBBSeFGleHKiz",
      "include_colab_link": true
    },
    "kernelspec": {
      "name": "python3",
      "display_name": "Python 3"
    },
    "language_info": {
      "name": "python"
    }
  },
  "cells": [
    {
      "cell_type": "markdown",
      "metadata": {
        "id": "view-in-github",
        "colab_type": "text"
      },
      "source": [
        "<a href=\"https://colab.research.google.com/github/AhmadTaha96/Quora-Questions-Pair-Similarity/blob/main/Exploratory%20Data%20Analysis.ipynb\" target=\"_parent\"><img src=\"https://colab.research.google.com/assets/colab-badge.svg\" alt=\"Open In Colab\"/></a>"
      ]
    },
    {
      "cell_type": "markdown",
      "metadata": {
        "id": "apwS3Wi0mRQu"
      },
      "source": [
        "# Importing Libraries"
      ]
    },
    {
      "cell_type": "code",
      "metadata": {
        "id": "u_3CZbUmnS1K"
      },
      "source": [
        "import os\n",
        "import shutil\n",
        "import numpy as np\n",
        "import pandas as pd\n",
        "import seaborn as sns\n",
        "import matplotlib.pyplot as plt\n",
        "from sklearn.model_selection import train_test_split, StratifiedShuffleSplit"
      ],
      "execution_count": 18,
      "outputs": []
    },
    {
      "cell_type": "markdown",
      "metadata": {
        "id": "2oNonJnbDr13"
      },
      "source": [
        "# Explorator Data Analysis"
      ]
    },
    {
      "cell_type": "markdown",
      "metadata": {
        "id": "vjspS03wnkDr"
      },
      "source": [
        "We shall now do some Exploratory Data Analysis in order to get some insight in the data, Candidate Feature, Remove some rows, Drop some columns, etc.."
      ]
    },
    {
      "cell_type": "code",
      "metadata": {
        "id": "FuLRR9sKDu8a"
      },
      "source": [
        "df = pd.read_csv(\"/content/Data/questions.csv\")"
      ],
      "execution_count": 20,
      "outputs": []
    },
    {
      "cell_type": "code",
      "metadata": {
        "colab": {
          "base_uri": "https://localhost:8080/"
        },
        "id": "eOidvee-D2T_",
        "outputId": "8769b07d-e1a1-42fa-ac52-ab0e39122b8c"
      },
      "source": [
        "df.shape"
      ],
      "execution_count": null,
      "outputs": [
        {
          "output_type": "execute_result",
          "data": {
            "text/plain": [
              "(404351, 6)"
            ]
          },
          "metadata": {},
          "execution_count": 14
        }
      ]
    },
    {
      "cell_type": "code",
      "metadata": {
        "colab": {
          "base_uri": "https://localhost:8080/"
        },
        "id": "2QXsXjmjD9hy",
        "outputId": "e55b63ee-9376-4033-e87b-269491e8b0e1"
      },
      "source": [
        "df.columns"
      ],
      "execution_count": null,
      "outputs": [
        {
          "output_type": "execute_result",
          "data": {
            "text/plain": [
              "Index(['id', 'qid1', 'qid2', 'question1', 'question2', 'is_duplicate'], dtype='object')"
            ]
          },
          "metadata": {},
          "execution_count": 15
        }
      ]
    },
    {
      "cell_type": "code",
      "metadata": {
        "colab": {
          "base_uri": "https://localhost:8080/",
          "height": 204
        },
        "id": "yN6quEjgEA9f",
        "outputId": "99e4bf02-9a0d-4f5b-a44b-612a8f506cf4"
      },
      "source": [
        "df.head()"
      ],
      "execution_count": null,
      "outputs": [
        {
          "output_type": "execute_result",
          "data": {
            "text/html": [
              "<div>\n",
              "<style scoped>\n",
              "    .dataframe tbody tr th:only-of-type {\n",
              "        vertical-align: middle;\n",
              "    }\n",
              "\n",
              "    .dataframe tbody tr th {\n",
              "        vertical-align: top;\n",
              "    }\n",
              "\n",
              "    .dataframe thead th {\n",
              "        text-align: right;\n",
              "    }\n",
              "</style>\n",
              "<table border=\"1\" class=\"dataframe\">\n",
              "  <thead>\n",
              "    <tr style=\"text-align: right;\">\n",
              "      <th></th>\n",
              "      <th>id</th>\n",
              "      <th>qid1</th>\n",
              "      <th>qid2</th>\n",
              "      <th>question1</th>\n",
              "      <th>question2</th>\n",
              "      <th>is_duplicate</th>\n",
              "    </tr>\n",
              "  </thead>\n",
              "  <tbody>\n",
              "    <tr>\n",
              "      <th>0</th>\n",
              "      <td>0</td>\n",
              "      <td>1</td>\n",
              "      <td>2</td>\n",
              "      <td>What is the step by step guide to invest in sh...</td>\n",
              "      <td>What is the step by step guide to invest in sh...</td>\n",
              "      <td>0</td>\n",
              "    </tr>\n",
              "    <tr>\n",
              "      <th>1</th>\n",
              "      <td>1</td>\n",
              "      <td>3</td>\n",
              "      <td>4</td>\n",
              "      <td>What is the story of Kohinoor (Koh-i-Noor) Dia...</td>\n",
              "      <td>What would happen if the Indian government sto...</td>\n",
              "      <td>0</td>\n",
              "    </tr>\n",
              "    <tr>\n",
              "      <th>2</th>\n",
              "      <td>2</td>\n",
              "      <td>5</td>\n",
              "      <td>6</td>\n",
              "      <td>How can I increase the speed of my internet co...</td>\n",
              "      <td>How can Internet speed be increased by hacking...</td>\n",
              "      <td>0</td>\n",
              "    </tr>\n",
              "    <tr>\n",
              "      <th>3</th>\n",
              "      <td>3</td>\n",
              "      <td>7</td>\n",
              "      <td>8</td>\n",
              "      <td>Why am I mentally very lonely? How can I solve...</td>\n",
              "      <td>Find the remainder when [math]23^{24}[/math] i...</td>\n",
              "      <td>0</td>\n",
              "    </tr>\n",
              "    <tr>\n",
              "      <th>4</th>\n",
              "      <td>4</td>\n",
              "      <td>9</td>\n",
              "      <td>10</td>\n",
              "      <td>Which one dissolve in water quikly sugar, salt...</td>\n",
              "      <td>Which fish would survive in salt water?</td>\n",
              "      <td>0</td>\n",
              "    </tr>\n",
              "  </tbody>\n",
              "</table>\n",
              "</div>"
            ],
            "text/plain": [
              "   id  qid1  ...                                          question2 is_duplicate\n",
              "0   0     1  ...  What is the step by step guide to invest in sh...            0\n",
              "1   1     3  ...  What would happen if the Indian government sto...            0\n",
              "2   2     5  ...  How can Internet speed be increased by hacking...            0\n",
              "3   3     7  ...  Find the remainder when [math]23^{24}[/math] i...            0\n",
              "4   4     9  ...            Which fish would survive in salt water?            0\n",
              "\n",
              "[5 rows x 6 columns]"
            ]
          },
          "metadata": {},
          "execution_count": 12
        }
      ]
    },
    {
      "cell_type": "code",
      "metadata": {
        "colab": {
          "base_uri": "https://localhost:8080/"
        },
        "id": "xp8dq5btlwmv",
        "outputId": "0a2b1a3a-10f2-4f45-d0fd-b05b50175878"
      },
      "source": [
        "df.info()"
      ],
      "execution_count": null,
      "outputs": [
        {
          "output_type": "stream",
          "name": "stdout",
          "text": [
            "<class 'pandas.core.frame.DataFrame'>\n",
            "RangeIndex: 404351 entries, 0 to 404350\n",
            "Data columns (total 6 columns):\n",
            " #   Column        Non-Null Count   Dtype \n",
            "---  ------        --------------   ----- \n",
            " 0   id            404351 non-null  int64 \n",
            " 1   qid1          404351 non-null  int64 \n",
            " 2   qid2          404351 non-null  int64 \n",
            " 3   question1     404350 non-null  object\n",
            " 4   question2     404349 non-null  object\n",
            " 5   is_duplicate  404351 non-null  int64 \n",
            "dtypes: int64(4), object(2)\n",
            "memory usage: 18.5+ MB\n"
          ]
        }
      ]
    },
    {
      "cell_type": "markdown",
      "metadata": {
        "id": "Khl6V1SppIs2"
      },
      "source": [
        "We can notice from the cell above that we have some rows with Null value, as their number is small we will drop them from our dataframe rather than trying to fix them or impute them."
      ]
    },
    {
      "cell_type": "code",
      "metadata": {
        "id": "rhwNl8PdpjgX"
      },
      "source": [
        "# you certinaly can do df.dropna(inplace = True)\n",
        "df = df.dropna()"
      ],
      "execution_count": 21,
      "outputs": []
    },
    {
      "cell_type": "code",
      "metadata": {
        "colab": {
          "base_uri": "https://localhost:8080/"
        },
        "id": "wJQ9ASdRptsT",
        "outputId": "7ed5124c-e1ce-496d-dada-1c9c5ae6bf43"
      },
      "source": [
        "df.info()"
      ],
      "execution_count": null,
      "outputs": [
        {
          "output_type": "stream",
          "name": "stdout",
          "text": [
            "<class 'pandas.core.frame.DataFrame'>\n",
            "Int64Index: 404348 entries, 0 to 404350\n",
            "Data columns (total 6 columns):\n",
            " #   Column        Non-Null Count   Dtype \n",
            "---  ------        --------------   ----- \n",
            " 0   id            404348 non-null  int64 \n",
            " 1   qid1          404348 non-null  int64 \n",
            " 2   qid2          404348 non-null  int64 \n",
            " 3   question1     404348 non-null  object\n",
            " 4   question2     404348 non-null  object\n",
            " 5   is_duplicate  404348 non-null  int64 \n",
            "dtypes: int64(4), object(2)\n",
            "memory usage: 21.6+ MB\n"
          ]
        }
      ]
    },
    {
      "cell_type": "markdown",
      "metadata": {
        "id": "dMhVWHg3pzYU"
      },
      "source": [
        "Now as we have sucessfully dropped those Null values from our processiong let's do some analysis to see the distrbuion of data give class label."
      ]
    },
    {
      "cell_type": "code",
      "metadata": {
        "colab": {
          "base_uri": "https://localhost:8080/",
          "height": 425
        },
        "id": "J0Vom78cp-UH",
        "outputId": "b5c8ead9-306e-40d8-f5d8-3ab07f879536"
      },
      "source": [
        "df[\"is_duplicate\"].value_counts().plot(kind = \"bar\", figsize = (13, 7))\n",
        "plt.show()"
      ],
      "execution_count": 23,
      "outputs": [
        {
          "output_type": "display_data",
          "data": {
            "image/png": "[encoded data removed]",
            "text/plain": [
              "<Figure size 936x504 with 1 Axes>"
            ]
          },
          "metadata": {
            "needs_background": "light"
          }
        }
      ]
    },
    {
      "cell_type": "markdown",
      "metadata": {
        "id": "XyNBRv4PqUcD"
      },
      "source": [
        "Now this is unbalanced dataset here as we clearely will get more non-duplicates data than duplicates but let's get the actual ration of what we have here."
      ]
    },
    {
      "cell_type": "code",
      "metadata": {
        "id": "W0CmL0oQqkZK"
      },
      "source": [
        "ratio_of_non_duplicate = len(df[df[\"is_duplicate\"] == 0]) / len(df)\n",
        "ratio_of_duplicate = len(df[df[\"is_duplicate\"] == 1]) / len(df)"
      ],
      "execution_count": null,
      "outputs": []
    },
    {
      "cell_type": "code",
      "metadata": {
        "colab": {
          "base_uri": "https://localhost:8080/"
        },
        "id": "uum3W5fzq1wZ",
        "outputId": "e6055784-f15b-433b-bb12-b55eb8f409cd"
      },
      "source": [
        "print(\"Ratio of Non-Duplicates Questions =\", ratio_of_non_duplicate * 100, '%')\n",
        "print(\"Ratio of Duplicates Questions =\", ratio_of_duplicate * 100, '%')"
      ],
      "execution_count": null,
      "outputs": [
        {
          "output_type": "stream",
          "name": "stdout",
          "text": [
            "Ratio of Non-Duplicates Questions = 63.07487609682748 %\n",
            "Ratio of Duplicates Questions = 36.92512390317251 %\n"
          ]
        }
      ]
    },
    {
      "cell_type": "markdown",
      "metadata": {
        "id": "Q8bqzlagrHjg"
      },
      "source": [
        "As we have 63% of class zero and approximately 37% of class 1 we shall be careful while splitting data between train and test set, because we don't want the data in one of them to be even more baised toward the other class.\n",
        "\n",
        "We can apply splitting just randomly but we don't want that here, but in the meantime let's just try splitting ranomly to inspect the distributing of class label here."
      ]
    },
    {
      "cell_type": "code",
      "metadata": {
        "id": "asuDv_bKrdjA"
      },
      "source": [
        "x1, x2 = train_test_split(df, test_size = 0.2)"
      ],
      "execution_count": null,
      "outputs": []
    },
    {
      "cell_type": "code",
      "metadata": {
        "colab": {
          "base_uri": "https://localhost:8080/"
        },
        "id": "okoO2Ayrr-Bc",
        "outputId": "8df8a90d-47a0-45ca-927c-ddf3403727f0"
      },
      "source": [
        "print(\"Length of testing trainset =\", len(x1))\n",
        "print(\"Length of testing testset =\", len(x2))"
      ],
      "execution_count": null,
      "outputs": [
        {
          "output_type": "stream",
          "name": "stdout",
          "text": [
            "Length of testing trainset = 323478\n",
            "Length of testing testset = 80870\n"
          ]
        }
      ]
    },
    {
      "cell_type": "code",
      "metadata": {
        "id": "L96tnClusOoP"
      },
      "source": [
        "ratio_of_non_duplicate_x1 = len(x1[x1[\"is_duplicate\"] == 0]) / len(x1)\n",
        "ratio_of_duplicate_x1 = len(x1[x1[\"is_duplicate\"] == 1]) / len(x1)"
      ],
      "execution_count": null,
      "outputs": []
    },
    {
      "cell_type": "code",
      "metadata": {
        "id": "Mgz8qRHWsWXq"
      },
      "source": [
        "ratio_of_non_duplicate_x2 = len(x2[x2[\"is_duplicate\"] == 0]) / len(x2)\n",
        "ratio_of_duplicate_x2 = len(x2[x2[\"is_duplicate\"] == 1]) / len(x2)"
      ],
      "execution_count": null,
      "outputs": []
    },
    {
      "cell_type": "code",
      "metadata": {
        "colab": {
          "base_uri": "https://localhost:8080/",
          "height": 262
        },
        "id": "9h3O6gjcscE8",
        "outputId": "00ddfa9e-02bc-4533-a33a-4e32b74676d2"
      },
      "source": [
        "x1[\"is_duplicate\"].value_counts().plot(kind = \"bar\")\n",
        "plt.show()"
      ],
      "execution_count": null,
      "outputs": [
        {
          "output_type": "display_data",
          "data": {
            "image/png": "[encoded data removed]",
            "text/plain": [
              "<Figure size 432x288 with 1 Axes>"
            ]
          },
          "metadata": {
            "needs_background": "light"
          }
        }
      ]
    },
    {
      "cell_type": "code",
      "metadata": {
        "colab": {
          "base_uri": "https://localhost:8080/",
          "height": 262
        },
        "id": "pUOc7T1duYtF",
        "outputId": "6be928c2-6df2-4fcc-8672-aabdf1a8f30d"
      },
      "source": [
        "x2[\"is_duplicate\"].value_counts().plot(kind = \"bar\")\n",
        "plt.show()"
      ],
      "execution_count": null,
      "outputs": [
        {
          "output_type": "display_data",
          "data": {
            "image/png": "[encoded data removed]",
            "text/plain": [
              "<Figure size 432x288 with 1 Axes>"
            ]
          },
          "metadata": {
            "needs_background": "light"
          }
        }
      ]
    },
    {
      "cell_type": "code",
      "metadata": {
        "colab": {
          "base_uri": "https://localhost:8080/"
        },
        "id": "Phk01N9kskJH",
        "outputId": "1d53f048-1b1e-4017-af04-b74ae70cf5fd"
      },
      "source": [
        "print(\"Ratio of Non-Duplicates Questions is testing trainset =\", ratio_of_non_duplicate_x1 * 100, '%')\n",
        "print(\"Ratio of Duplicates Questions in testing trainset =\", ratio_of_duplicate_x1 * 100, '%')"
      ],
      "execution_count": null,
      "outputs": [
        {
          "output_type": "stream",
          "name": "stdout",
          "text": [
            "Ratio of Non-Duplicates Questions is testing trainset = 63.10846487241791 %\n",
            "Ratio of Duplicates Questions in testing trainset = 36.891535127582095 %\n"
          ]
        }
      ]
    },
    {
      "cell_type": "code",
      "metadata": {
        "colab": {
          "base_uri": "https://localhost:8080/"
        },
        "id": "9mlH6HtztC5C",
        "outputId": "f538d14d-ca55-4135-91f1-4fb588e190f1"
      },
      "source": [
        "print(\"Ratio of Non-Duplicates Questions is testing testset =\", ratio_of_non_duplicate_x2 * 100, '%')\n",
        "print(\"Ratio of Duplicates Questions in testing testset =\", ratio_of_duplicate_x2 * 100, '%')"
      ],
      "execution_count": null,
      "outputs": [
        {
          "output_type": "stream",
          "name": "stdout",
          "text": [
            "Ratio of Non-Duplicates Questions is testing testset = 62.94052182515147 %\n",
            "Ratio of Duplicates Questions in testing testset = 37.05947817484852 %\n"
          ]
        }
      ]
    },
    {
      "cell_type": "code",
      "metadata": {
        "id": "dbRSsnISu6aB"
      },
      "source": [
        "split = StratifiedShuffleSplit(n_splits = 1, test_size = 0.2)\n",
        "for train_index, test_index in split.split(df, df[\"is_duplicate\"]):\n",
        "  train_data = df.iloc[train_index]\n",
        "  test_data = df.iloc[test_index]"
      ],
      "execution_count": 24,
      "outputs": []
    },
    {
      "cell_type": "code",
      "metadata": {
        "colab": {
          "base_uri": "https://localhost:8080/"
        },
        "id": "f9j-0pFfvTeb",
        "outputId": "e3fc22d2-c30c-4470-b7ae-7d0a03bffca0"
      },
      "source": [
        "print(\"Ratio of negative class in training data =\", (train_data[\"is_duplicate\"].value_counts()[0] / len(train_data)) * 100, '%')\n",
        "print(\"Ratio of positive class in training data =\", 100 - (train_data[\"is_duplicate\"].value_counts()[0] / len(train_data)) * 100, '%')"
      ],
      "execution_count": null,
      "outputs": [
        {
          "output_type": "stream",
          "name": "stdout",
          "text": [
            "Ratio of negative class in training data = 63.07476860868436 %\n",
            "Ratio of positive class in training data = 36.92523139131564 %\n"
          ]
        }
      ]
    },
    {
      "cell_type": "code",
      "metadata": {
        "colab": {
          "base_uri": "https://localhost:8080/"
        },
        "id": "YHFdDrfMIj8K",
        "outputId": "493bef14-9970-4ffa-af00-335a14304d49"
      },
      "source": [
        "print(\"Ratio of negative class in testing data =\", (test_data[\"is_duplicate\"].value_counts()[0] / len(test_data)) * 100, '%')\n",
        "print(\"Ratio of positive class in testing data =\", 100 - (test_data[\"is_duplicate\"].value_counts()[0] / len(test_data)) * 100, '%')"
      ],
      "execution_count": null,
      "outputs": [
        {
          "output_type": "stream",
          "name": "stdout",
          "text": [
            "Ratio of negative class in testing data = 63.07530604674169 %\n",
            "Ratio of positive class in testing data = 36.92469395325831 %\n"
          ]
        }
      ]
    },
    {
      "cell_type": "markdown",
      "metadata": {
        "id": "LSkwMJNRJc0E"
      },
      "source": [
        "As this method would preserve the ratio a little bit better than the traditional one, I would prefere to use it over the old one even though the ratio is not large but still a good method if one have an important variable and does not want to be absent in test or cross validate data."
      ]
    },
    {
      "cell_type": "markdown",
      "metadata": {
        "id": "5g4G3QRRQnM6"
      },
      "source": [
        "Now as we cleaned some part of the data let's try to detect duplicated rows."
      ]
    },
    {
      "cell_type": "code",
      "metadata": {
        "colab": {
          "base_uri": "https://localhost:8080/"
        },
        "id": "TkZrpcYRQmYa",
        "outputId": "2f117569-02a1-403b-aff5-22098199d435"
      },
      "source": [
        "print(\"Number of repeated rows in train data =\", sum(train_data.duplicated()))"
      ],
      "execution_count": null,
      "outputs": [
        {
          "output_type": "stream",
          "name": "stdout",
          "text": [
            "Number of repeated rows in train data = 0\n"
          ]
        }
      ]
    },
    {
      "cell_type": "markdown",
      "metadata": {
        "id": "v7XGKuKxSrZQ"
      },
      "source": [
        "Getting Number of rows in train data with just one word in it, something to mention that some of those rows are just a question mark meaning that there is no question at all here, we can drop those rows no doubt but i choose to keep them."
      ]
    },
    {
      "cell_type": "code",
      "metadata": {
        "colab": {
          "base_uri": "https://localhost:8080/"
        },
        "id": "KCg9QwnLSKxC",
        "outputId": "267ecb65-be45-4539-ec54-ef96b53da33b"
      },
      "source": [
        "print(\"Number of rows in train data with just one word in question1 =\", len(train_data[train_data[\"question1\"].str.len() == 1]))"
      ],
      "execution_count": null,
      "outputs": [
        {
          "output_type": "stream",
          "name": "stdout",
          "text": [
            "Number of rows in train data with just one word in question1 = 16\n"
          ]
        }
      ]
    },
    {
      "cell_type": "code",
      "metadata": {
        "colab": {
          "base_uri": "https://localhost:8080/",
          "height": 545
        },
        "id": "WDtHxttXTbGo",
        "outputId": "15a1c105-0672-4843-dea3-09de39201317"
      },
      "source": [
        "train_data[train_data[\"question1\"].str.len() == 1]"
      ],
      "execution_count": null,
      "outputs": [
        {
          "output_type": "execute_result",
          "data": {
            "text/html": [
              "<div>\n",
              "<style scoped>\n",
              "    .dataframe tbody tr th:only-of-type {\n",
              "        vertical-align: middle;\n",
              "    }\n",
              "\n",
              "    .dataframe tbody tr th {\n",
              "        vertical-align: top;\n",
              "    }\n",
              "\n",
              "    .dataframe thead th {\n",
              "        text-align: right;\n",
              "    }\n",
              "</style>\n",
              "<table border=\"1\" class=\"dataframe\">\n",
              "  <thead>\n",
              "    <tr style=\"text-align: right;\">\n",
              "      <th></th>\n",
              "      <th>id</th>\n",
              "      <th>qid1</th>\n",
              "      <th>qid2</th>\n",
              "      <th>question1</th>\n",
              "      <th>question2</th>\n",
              "      <th>is_duplicate</th>\n",
              "    </tr>\n",
              "  </thead>\n",
              "  <tbody>\n",
              "    <tr>\n",
              "      <th>158800</th>\n",
              "      <td>158800</td>\n",
              "      <td>314005</td>\n",
              "      <td>314006</td>\n",
              "      <td>A</td>\n",
              "      <td>Do men forgive their wives when they cheat on ...</td>\n",
              "      <td>0</td>\n",
              "    </tr>\n",
              "    <tr>\n",
              "      <th>151943</th>\n",
              "      <td>151943</td>\n",
              "      <td>300557</td>\n",
              "      <td>300558</td>\n",
              "      <td>o</td>\n",
              "      <td>What is this - “This website/URL has been bloc...</td>\n",
              "      <td>0</td>\n",
              "    </tr>\n",
              "    <tr>\n",
              "      <th>108994</th>\n",
              "      <td>108994</td>\n",
              "      <td>216144</td>\n",
              "      <td>216145</td>\n",
              "      <td>i</td>\n",
              "      <td>What questions to ask any drdummer?</td>\n",
              "      <td>0</td>\n",
              "    </tr>\n",
              "    <tr>\n",
              "      <th>189689</th>\n",
              "      <td>189689</td>\n",
              "      <td>374512</td>\n",
              "      <td>374513</td>\n",
              "      <td>?</td>\n",
              "      <td>Who is Noah?</td>\n",
              "      <td>0</td>\n",
              "    </tr>\n",
              "    <tr>\n",
              "      <th>402484</th>\n",
              "      <td>402484</td>\n",
              "      <td>786227</td>\n",
              "      <td>786228</td>\n",
              "      <td>?</td>\n",
              "      <td>What is cisco router technical support phone n...</td>\n",
              "      <td>0</td>\n",
              "    </tr>\n",
              "    <tr>\n",
              "      <th>357182</th>\n",
              "      <td>357182</td>\n",
              "      <td>699485</td>\n",
              "      <td>699486</td>\n",
              "      <td>H</td>\n",
              "      <td>Should I forgive the cheater?</td>\n",
              "      <td>0</td>\n",
              "    </tr>\n",
              "    <tr>\n",
              "      <th>273103</th>\n",
              "      <td>273103</td>\n",
              "      <td>537069</td>\n",
              "      <td>537070</td>\n",
              "      <td>?</td>\n",
              "      <td>How can I describe Quora, in all its glory, to...</td>\n",
              "      <td>0</td>\n",
              "    </tr>\n",
              "    <tr>\n",
              "      <th>199140</th>\n",
              "      <td>199140</td>\n",
              "      <td>393002</td>\n",
              "      <td>393003</td>\n",
              "      <td>I</td>\n",
              "      <td>What is the connection between Donald trump an...</td>\n",
              "      <td>0</td>\n",
              "    </tr>\n",
              "    <tr>\n",
              "      <th>20797</th>\n",
              "      <td>20797</td>\n",
              "      <td>41490</td>\n",
              "      <td>41491</td>\n",
              "      <td>?</td>\n",
              "      <td>What is the Gmail tech support help phone number?</td>\n",
              "      <td>0</td>\n",
              "    </tr>\n",
              "    <tr>\n",
              "      <th>134422</th>\n",
              "      <td>134422</td>\n",
              "      <td>266194</td>\n",
              "      <td>266195</td>\n",
              "      <td>?</td>\n",
              "      <td>What is your take on the undercover report tha...</td>\n",
              "      <td>0</td>\n",
              "    </tr>\n",
              "    <tr>\n",
              "      <th>104117</th>\n",
              "      <td>104117</td>\n",
              "      <td>206529</td>\n",
              "      <td>206530</td>\n",
              "      <td>?</td>\n",
              "      <td>Problem of solving a problem is not a problem,...</td>\n",
              "      <td>0</td>\n",
              "    </tr>\n",
              "    <tr>\n",
              "      <th>254199</th>\n",
              "      <td>254199</td>\n",
              "      <td>500382</td>\n",
              "      <td>500383</td>\n",
              "      <td>?</td>\n",
              "      <td>How do I convince my non-Indian friends that n...</td>\n",
              "      <td>0</td>\n",
              "    </tr>\n",
              "    <tr>\n",
              "      <th>3305</th>\n",
              "      <td>3305</td>\n",
              "      <td>6608</td>\n",
              "      <td>6609</td>\n",
              "      <td>.</td>\n",
              "      <td>Why is Cornell's endowment the lowest in the I...</td>\n",
              "      <td>0</td>\n",
              "    </tr>\n",
              "    <tr>\n",
              "      <th>208517</th>\n",
              "      <td>208517</td>\n",
              "      <td>411330</td>\n",
              "      <td>411331</td>\n",
              "      <td>?</td>\n",
              "      <td>Given that PACER makes money from usage, why d...</td>\n",
              "      <td>0</td>\n",
              "    </tr>\n",
              "    <tr>\n",
              "      <th>213253</th>\n",
              "      <td>213253</td>\n",
              "      <td>420552</td>\n",
              "      <td>37823</td>\n",
              "      <td>?</td>\n",
              "      <td>What is it like to work at Google?</td>\n",
              "      <td>0</td>\n",
              "    </tr>\n",
              "    <tr>\n",
              "      <th>13016</th>\n",
              "      <td>13016</td>\n",
              "      <td>25986</td>\n",
              "      <td>25987</td>\n",
              "      <td>?</td>\n",
              "      <td>Why should one not work at Google?</td>\n",
              "      <td>0</td>\n",
              "    </tr>\n",
              "  </tbody>\n",
              "</table>\n",
              "</div>"
            ],
            "text/plain": [
              "            id  ...  is_duplicate\n",
              "158800  158800  ...             0\n",
              "151943  151943  ...             0\n",
              "108994  108994  ...             0\n",
              "189689  189689  ...             0\n",
              "402484  402484  ...             0\n",
              "357182  357182  ...             0\n",
              "273103  273103  ...             0\n",
              "199140  199140  ...             0\n",
              "20797    20797  ...             0\n",
              "134422  134422  ...             0\n",
              "104117  104117  ...             0\n",
              "254199  254199  ...             0\n",
              "3305      3305  ...             0\n",
              "208517  208517  ...             0\n",
              "213253  213253  ...             0\n",
              "13016    13016  ...             0\n",
              "\n",
              "[16 rows x 6 columns]"
            ]
          },
          "metadata": {},
          "execution_count": 20
        }
      ]
    },
    {
      "cell_type": "code",
      "metadata": {
        "colab": {
          "base_uri": "https://localhost:8080/"
        },
        "id": "vpjtikagT18_",
        "outputId": "642fab01-a109-4d49-c0a3-76d2d4771b3a"
      },
      "source": [
        "print(\"Number of rows in train data with just one word in question2 =\", len(train_data[train_data[\"question2\"].str.len() == 1]))"
      ],
      "execution_count": null,
      "outputs": [
        {
          "output_type": "stream",
          "name": "stdout",
          "text": [
            "Number of rows in train data with just one word in question2 = 2\n"
          ]
        }
      ]
    },
    {
      "cell_type": "code",
      "metadata": {
        "colab": {
          "base_uri": "https://localhost:8080/",
          "height": 111
        },
        "id": "q-an3Cm1T3YW",
        "outputId": "a83d7c55-27bc-405d-f492-d00f3178add4"
      },
      "source": [
        "train_data[train_data[\"question2\"].str.len() == 1]"
      ],
      "execution_count": null,
      "outputs": [
        {
          "output_type": "execute_result",
          "data": {
            "text/html": [
              "<div>\n",
              "<style scoped>\n",
              "    .dataframe tbody tr th:only-of-type {\n",
              "        vertical-align: middle;\n",
              "    }\n",
              "\n",
              "    .dataframe tbody tr th {\n",
              "        vertical-align: top;\n",
              "    }\n",
              "\n",
              "    .dataframe thead th {\n",
              "        text-align: right;\n",
              "    }\n",
              "</style>\n",
              "<table border=\"1\" class=\"dataframe\">\n",
              "  <thead>\n",
              "    <tr style=\"text-align: right;\">\n",
              "      <th></th>\n",
              "      <th>id</th>\n",
              "      <th>qid1</th>\n",
              "      <th>qid2</th>\n",
              "      <th>question1</th>\n",
              "      <th>question2</th>\n",
              "      <th>is_duplicate</th>\n",
              "    </tr>\n",
              "  </thead>\n",
              "  <tbody>\n",
              "    <tr>\n",
              "      <th>198943</th>\n",
              "      <td>198943</td>\n",
              "      <td>392619</td>\n",
              "      <td>392620</td>\n",
              "      <td>What is this?</td>\n",
              "      <td>o</td>\n",
              "      <td>0</td>\n",
              "    </tr>\n",
              "    <tr>\n",
              "      <th>47064</th>\n",
              "      <td>47064</td>\n",
              "      <td>93706</td>\n",
              "      <td>93707</td>\n",
              "      <td>Is there anywhere in the world offering pain m...</td>\n",
              "      <td>?</td>\n",
              "      <td>0</td>\n",
              "    </tr>\n",
              "  </tbody>\n",
              "</table>\n",
              "</div>"
            ],
            "text/plain": [
              "            id    qid1  ...  question2 is_duplicate\n",
              "198943  198943  392619  ...          o            0\n",
              "47064    47064   93706  ...          ?            0\n",
              "\n",
              "[2 rows x 6 columns]"
            ]
          },
          "metadata": {},
          "execution_count": 22
        }
      ]
    },
    {
      "cell_type": "code",
      "metadata": {
        "colab": {
          "base_uri": "https://localhost:8080/",
          "height": 49
        },
        "id": "owoQ_2KgT-e_",
        "outputId": "4d5117bb-1dcb-4522-e164-9959a175dec9"
      },
      "source": [
        "pd.merge(train_data[train_data[\"question1\"].str.len() == 1], train_data[train_data[\"question2\"].str.len() == 1], on = 'id')"
      ],
      "execution_count": null,
      "outputs": [
        {
          "output_type": "execute_result",
          "data": {
            "text/html": [
              "<div>\n",
              "<style scoped>\n",
              "    .dataframe tbody tr th:only-of-type {\n",
              "        vertical-align: middle;\n",
              "    }\n",
              "\n",
              "    .dataframe tbody tr th {\n",
              "        vertical-align: top;\n",
              "    }\n",
              "\n",
              "    .dataframe thead th {\n",
              "        text-align: right;\n",
              "    }\n",
              "</style>\n",
              "<table border=\"1\" class=\"dataframe\">\n",
              "  <thead>\n",
              "    <tr style=\"text-align: right;\">\n",
              "      <th></th>\n",
              "      <th>id</th>\n",
              "      <th>qid1_x</th>\n",
              "      <th>qid2_x</th>\n",
              "      <th>question1_x</th>\n",
              "      <th>question2_x</th>\n",
              "      <th>is_duplicate_x</th>\n",
              "      <th>qid1_y</th>\n",
              "      <th>qid2_y</th>\n",
              "      <th>question1_y</th>\n",
              "      <th>question2_y</th>\n",
              "      <th>is_duplicate_y</th>\n",
              "    </tr>\n",
              "  </thead>\n",
              "  <tbody>\n",
              "  </tbody>\n",
              "</table>\n",
              "</div>"
            ],
            "text/plain": [
              "Empty DataFrame\n",
              "Columns: [id, qid1_x, qid2_x, question1_x, question2_x, is_duplicate_x, qid1_y, qid2_y, question1_y, question2_y, is_duplicate_y]\n",
              "Index: []"
            ]
          },
          "metadata": {},
          "execution_count": 23
        }
      ]
    },
    {
      "cell_type": "markdown",
      "metadata": {
        "id": "RZH4-dMj2jjQ"
      },
      "source": [
        "So there is now common rows between two previous dataframes where on cell is just one word or one letter as one letter count as word, hence there is not at least one row with question1 is one word and question2 is one word as well.\n",
        "\n",
        "Something to notice here that each of the previous rows label is equal to 0 which means there no duplicates here and that make sense because it is not logical to have for example question1 with one word and question2 with 20 words to be duplicates and that give us a clue on how importance is length of questions feature."
      ]
    },
    {
      "cell_type": "markdown",
      "metadata": {
        "id": "9drfDc0u7svM"
      },
      "source": [
        "Let's inspect now number of unique question in train data, the frequency of questions we have as this would be a very important and informative signal if one can inspect it right."
      ]
    },
    {
      "cell_type": "code",
      "metadata": {
        "colab": {
          "base_uri": "https://localhost:8080/"
        },
        "id": "auRD1AAw9Vvh",
        "outputId": "8d7f978c-ab94-4e9f-ee79-93790a5d1a48"
      },
      "source": [
        "question1 = train_data[\"qid1\"].values\n",
        "question2 = train_data[\"qid2\"].values\n",
        "print(\"Number of unique questions in question1 column =\", len(np.unique(question1)))\n",
        "print(\"Number of unique questions in question2 column =\", len(np.unique(question2)))\n",
        "print(\"Total Number of unique questions in each columns =\", len(np.unique(question1)) + len(np.unique(question2)))\n",
        "print(\"Total Number of unique questions in both columns =\", len(np.unique(question1 + question2)))"
      ],
      "execution_count": null,
      "outputs": [
        {
          "output_type": "stream",
          "name": "stdout",
          "text": [
            "Number of unique questions in question1 column = 320122\n",
            "Number of unique questions in question2 column = 319153\n",
            "Total Number of unique questions in each columns = 639275\n",
            "Total Number of unique questions in both columns = 320689\n"
          ]
        }
      ]
    },
    {
      "cell_type": "code",
      "metadata": {
        "id": "OWA3HEx2LYJL"
      },
      "source": [
        "questions_ids = pd.Series(train_data[\"qid1\"].tolist() + train_data[\"qid2\"].tolist())"
      ],
      "execution_count": null,
      "outputs": []
    },
    {
      "cell_type": "code",
      "metadata": {
        "colab": {
          "base_uri": "https://localhost:8080/"
        },
        "id": "FzaenHfQLgwq",
        "outputId": "4b2e1e77-c028-4b05-abb2-6105c64348b3"
      },
      "source": [
        "print(\"Number of repeated questions in train_data =\", np.sum(questions_ids.value_counts() > 1))"
      ],
      "execution_count": null,
      "outputs": [
        {
          "output_type": "stream",
          "name": "stdout",
          "text": [
            "Number of repeated questions in train_data = 9442\n"
          ]
        }
      ]
    },
    {
      "cell_type": "code",
      "metadata": {
        "colab": {
          "base_uri": "https://localhost:8080/",
          "height": 428
        },
        "id": "_HqW6fgAMP3-",
        "outputId": "83cb5242-4d0d-4f4e-a0e9-2e3734a7730c"
      },
      "source": [
        "x = [\"Unique Questions\", \"Repeated Questions\"]\n",
        "y = [len(np.unique(questions_ids)), np.sum(questions_ids.value_counts() > 1)]\n",
        "plt.figure(figsize = (12, 6))\n",
        "sns.barplot(x, y)\n",
        "plt.show()"
      ],
      "execution_count": null,
      "outputs": [
        {
          "output_type": "stream",
          "name": "stderr",
          "text": [
            "/usr/local/lib/python3.7/dist-packages/seaborn/_decorators.py:43: FutureWarning: Pass the following variables as keyword args: x, y. From version 0.12, the only valid positional argument will be `data`, and passing other arguments without an explicit keyword will result in an error or misinterpretation.\n",
            "  FutureWarning\n"
          ]
        },
        {
          "output_type": "display_data",
          "data": {
            "image/png": "[encoded data removed]",
            "text/plain": [
              "<Figure size 864x432 with 1 Axes>"
            ]
          },
          "metadata": {
            "needs_background": "light"
          }
        }
      ]
    },
    {
      "cell_type": "markdown",
      "metadata": {
        "id": "rv6io8kL6EI7"
      },
      "source": [
        "So it seem to say that some of questions are reapeated buy the majority are not, as we have only less than 10k questions repeated among them all, but let's see if repeated questions affect the label of not, but first let's also try to plot the histogram to see the distribuiton of frequency of thoses questions."
      ]
    },
    {
      "cell_type": "code",
      "metadata": {
        "colab": {
          "base_uri": "https://localhost:8080/",
          "height": 504
        },
        "id": "K3v2PzaCM5oW",
        "outputId": "9bdc8df3-4295-4f2a-cc6c-d7d0fbc471ef"
      },
      "source": [
        "plt.figure(figsize = (15, 8))\n",
        "plt.hist(questions_ids.value_counts(), bins = 150)\n",
        "plt.yscale(\"log\")\n",
        "plt.title(\"Histogram of frequency of questions\", size = 20)\n",
        "plt.show()"
      ],
      "execution_count": null,
      "outputs": [
        {
          "output_type": "display_data",
          "data": {
            "image/png": "[encoded data removed]",
            "text/plain": [
              "<Figure size 1080x576 with 1 Axes>"
            ]
          },
          "metadata": {
            "needs_background": "light"
          }
        }
      ]
    },
    {
      "cell_type": "markdown",
      "metadata": {
        "id": "FI-AZ29DU9Mk"
      },
      "source": [
        "This distribution look like power law distribution where majority of  values tend to gather at some area of the space and just few values spread around the large values, we can't conver it here into normal even if we conside it as log-normal because we don't here deal with actual values, as the actual values is the question1 and quesiton2 before designing the features."
      ]
    },
    {
      "cell_type": "code",
      "metadata": {
        "colab": {
          "base_uri": "https://localhost:8080/"
        },
        "id": "Qkju8B1BUvJM",
        "outputId": "6420c2ae-5363-48de-d827-8cc82edeab8e"
      },
      "source": [
        "print(\"Number of questions which Repeated and Duplicates =\", repeated_and_duplicate)\n",
        "print(\"Number of questions which Repeated and Not Duplicates =\", repeated_and_not_duplicate)"
      ],
      "execution_count": null,
      "outputs": [
        {
          "output_type": "stream",
          "name": "stdout",
          "text": [
            "Number of questions which Repeated and Duplicates = 0\n",
            "Number of questions which Repeated and Not Duplicates = 9442\n"
          ]
        }
      ]
    },
    {
      "cell_type": "code",
      "metadata": {
        "id": "dCznydiKWHJ7"
      },
      "source": [
        "indicator_of_repeted = (questions_ids.value_counts() > 2)\n",
        "indices_of_repeated = (questions_ids.value_counts() > 2).index.values"
      ],
      "execution_count": null,
      "outputs": []
    },
    {
      "cell_type": "markdown",
      "metadata": {
        "id": "vbWDhujLLtmT"
      },
      "source": [
        "Example of repeated quesion which is the most frequenct one and was repeated 39 here in our train data.\n",
        "\n",
        "**Note:** this number would diffre due to how you split your wheater it's blind split, disjoint split, etc.."
      ]
    },
    {
      "cell_type": "code",
      "metadata": {
        "colab": {
          "base_uri": "https://localhost:8080/",
          "height": 731
        },
        "id": "pWuG0grGMN6r",
        "outputId": "a77632cc-4b6c-4128-92c6-2bbdb4960138"
      },
      "source": [
        "train_data[train_data[\"qid1\"] == 7863]"
      ],
      "execution_count": null,
      "outputs": [
        {
          "output_type": "execute_result",
          "data": {
            "text/html": [
              "<div>\n",
              "<style scoped>\n",
              "    .dataframe tbody tr th:only-of-type {\n",
              "        vertical-align: middle;\n",
              "    }\n",
              "\n",
              "    .dataframe tbody tr th {\n",
              "        vertical-align: top;\n",
              "    }\n",
              "\n",
              "    .dataframe thead th {\n",
              "        text-align: right;\n",
              "    }\n",
              "</style>\n",
              "<table border=\"1\" class=\"dataframe\">\n",
              "  <thead>\n",
              "    <tr style=\"text-align: right;\">\n",
              "      <th></th>\n",
              "      <th>id</th>\n",
              "      <th>qid1</th>\n",
              "      <th>qid2</th>\n",
              "      <th>question1</th>\n",
              "      <th>question2</th>\n",
              "      <th>is_duplicate</th>\n",
              "    </tr>\n",
              "  </thead>\n",
              "  <tbody>\n",
              "    <tr>\n",
              "      <th>287204</th>\n",
              "      <td>287204</td>\n",
              "      <td>7863</td>\n",
              "      <td>564391</td>\n",
              "      <td>What is the cheapest, painless, easiest way to...</td>\n",
              "      <td>What is a way to commit suicide and not damagi...</td>\n",
              "      <td>0</td>\n",
              "    </tr>\n",
              "    <tr>\n",
              "      <th>364121</th>\n",
              "      <td>364121</td>\n",
              "      <td>7863</td>\n",
              "      <td>712782</td>\n",
              "      <td>What is the cheapest, painless, easiest way to...</td>\n",
              "      <td>What is the most painless way to commit suicide?</td>\n",
              "      <td>1</td>\n",
              "    </tr>\n",
              "    <tr>\n",
              "      <th>50027</th>\n",
              "      <td>50027</td>\n",
              "      <td>7863</td>\n",
              "      <td>99580</td>\n",
              "      <td>What is the cheapest, painless, easiest way to...</td>\n",
              "      <td>What is the cheapest method to commit suicide?</td>\n",
              "      <td>1</td>\n",
              "    </tr>\n",
              "    <tr>\n",
              "      <th>295677</th>\n",
              "      <td>295677</td>\n",
              "      <td>7863</td>\n",
              "      <td>580807</td>\n",
              "      <td>What is the cheapest, painless, easiest way to...</td>\n",
              "      <td>What are some painless ways to commit suicide?</td>\n",
              "      <td>1</td>\n",
              "    </tr>\n",
              "    <tr>\n",
              "      <th>67356</th>\n",
              "      <td>67356</td>\n",
              "      <td>7863</td>\n",
              "      <td>133912</td>\n",
              "      <td>What is the cheapest, painless, easiest way to...</td>\n",
              "      <td>What is the cheapest, easiest, least painful w...</td>\n",
              "      <td>1</td>\n",
              "    </tr>\n",
              "    <tr>\n",
              "      <th>304702</th>\n",
              "      <td>304702</td>\n",
              "      <td>7863</td>\n",
              "      <td>598308</td>\n",
              "      <td>What is the cheapest, painless, easiest way to...</td>\n",
              "      <td>How do I convince someone not to commit suicide?</td>\n",
              "      <td>0</td>\n",
              "    </tr>\n",
              "    <tr>\n",
              "      <th>57938</th>\n",
              "      <td>57938</td>\n",
              "      <td>7863</td>\n",
              "      <td>115267</td>\n",
              "      <td>What is the cheapest, painless, easiest way to...</td>\n",
              "      <td>How many people commit suicide in India everyday?</td>\n",
              "      <td>0</td>\n",
              "    </tr>\n",
              "    <tr>\n",
              "      <th>87462</th>\n",
              "      <td>87462</td>\n",
              "      <td>7863</td>\n",
              "      <td>173677</td>\n",
              "      <td>What is the cheapest, painless, easiest way to...</td>\n",
              "      <td>What are some reasons not to suicide?</td>\n",
              "      <td>0</td>\n",
              "    </tr>\n",
              "    <tr>\n",
              "      <th>187946</th>\n",
              "      <td>187946</td>\n",
              "      <td>7863</td>\n",
              "      <td>371102</td>\n",
              "      <td>What is the cheapest, painless, easiest way to...</td>\n",
              "      <td>What is the easiest way of committing suicide?</td>\n",
              "      <td>1</td>\n",
              "    </tr>\n",
              "    <tr>\n",
              "      <th>145988</th>\n",
              "      <td>145988</td>\n",
              "      <td>7863</td>\n",
              "      <td>288874</td>\n",
              "      <td>What is the cheapest, painless, easiest way to...</td>\n",
              "      <td>What is the easiest way to suicide?</td>\n",
              "      <td>0</td>\n",
              "    </tr>\n",
              "    <tr>\n",
              "      <th>168308</th>\n",
              "      <td>168308</td>\n",
              "      <td>7863</td>\n",
              "      <td>332624</td>\n",
              "      <td>What is the cheapest, painless, easiest way to...</td>\n",
              "      <td>What is the most effective way to suicide?</td>\n",
              "      <td>1</td>\n",
              "    </tr>\n",
              "    <tr>\n",
              "      <th>311355</th>\n",
              "      <td>311355</td>\n",
              "      <td>7863</td>\n",
              "      <td>611172</td>\n",
              "      <td>What is the cheapest, painless, easiest way to...</td>\n",
              "      <td>What is a sure way to commit suicide?</td>\n",
              "      <td>1</td>\n",
              "    </tr>\n",
              "    <tr>\n",
              "      <th>49818</th>\n",
              "      <td>49818</td>\n",
              "      <td>7863</td>\n",
              "      <td>99168</td>\n",
              "      <td>What is the cheapest, painless, easiest way to...</td>\n",
              "      <td>What's the absolute easiest way to commit suic...</td>\n",
              "      <td>1</td>\n",
              "    </tr>\n",
              "    <tr>\n",
              "      <th>155059</th>\n",
              "      <td>155059</td>\n",
              "      <td>7863</td>\n",
              "      <td>306665</td>\n",
              "      <td>What is the cheapest, painless, easiest way to...</td>\n",
              "      <td>Why shouldn't one commit suicide?</td>\n",
              "      <td>0</td>\n",
              "    </tr>\n",
              "    <tr>\n",
              "      <th>349582</th>\n",
              "      <td>349582</td>\n",
              "      <td>7863</td>\n",
              "      <td>684885</td>\n",
              "      <td>What is the cheapest, painless, easiest way to...</td>\n",
              "      <td>How high should one jump from to commit suicide?</td>\n",
              "      <td>0</td>\n",
              "    </tr>\n",
              "    <tr>\n",
              "      <th>58204</th>\n",
              "      <td>58204</td>\n",
              "      <td>7863</td>\n",
              "      <td>115785</td>\n",
              "      <td>What is the cheapest, painless, easiest way to...</td>\n",
              "      <td>What is the best way to commit suicide in India?</td>\n",
              "      <td>1</td>\n",
              "    </tr>\n",
              "    <tr>\n",
              "      <th>316307</th>\n",
              "      <td>316307</td>\n",
              "      <td>7863</td>\n",
              "      <td>620701</td>\n",
              "      <td>What is the cheapest, painless, easiest way to...</td>\n",
              "      <td>What is the quickest and less painful way to c...</td>\n",
              "      <td>1</td>\n",
              "    </tr>\n",
              "    <tr>\n",
              "      <th>272143</th>\n",
              "      <td>272143</td>\n",
              "      <td>7863</td>\n",
              "      <td>535199</td>\n",
              "      <td>What is the cheapest, painless, easiest way to...</td>\n",
              "      <td>What is an easy way to commit suicide?</td>\n",
              "      <td>1</td>\n",
              "    </tr>\n",
              "    <tr>\n",
              "      <th>214462</th>\n",
              "      <td>214462</td>\n",
              "      <td>7863</td>\n",
              "      <td>422917</td>\n",
              "      <td>What is the cheapest, painless, easiest way to...</td>\n",
              "      <td>How do I give up the thought of committing sui...</td>\n",
              "      <td>0</td>\n",
              "    </tr>\n",
              "    <tr>\n",
              "      <th>63944</th>\n",
              "      <td>63944</td>\n",
              "      <td>7863</td>\n",
              "      <td>127157</td>\n",
              "      <td>What is the cheapest, painless, easiest way to...</td>\n",
              "      <td>Penicillin acts as a suicide substrate. Which ...</td>\n",
              "      <td>0</td>\n",
              "    </tr>\n",
              "    <tr>\n",
              "      <th>343505</th>\n",
              "      <td>343505</td>\n",
              "      <td>7863</td>\n",
              "      <td>673246</td>\n",
              "      <td>What is the cheapest, painless, easiest way to...</td>\n",
              "      <td>What is the best way to commit suicide and not...</td>\n",
              "      <td>0</td>\n",
              "    </tr>\n",
              "    <tr>\n",
              "      <th>136904</th>\n",
              "      <td>136904</td>\n",
              "      <td>7863</td>\n",
              "      <td>222736</td>\n",
              "      <td>What is the cheapest, painless, easiest way to...</td>\n",
              "      <td>What are some of the good reasons to commit su...</td>\n",
              "      <td>0</td>\n",
              "    </tr>\n",
              "  </tbody>\n",
              "</table>\n",
              "</div>"
            ],
            "text/plain": [
              "            id  ...  is_duplicate\n",
              "287204  287204  ...             0\n",
              "364121  364121  ...             1\n",
              "50027    50027  ...             1\n",
              "295677  295677  ...             1\n",
              "67356    67356  ...             1\n",
              "304702  304702  ...             0\n",
              "57938    57938  ...             0\n",
              "87462    87462  ...             0\n",
              "187946  187946  ...             1\n",
              "145988  145988  ...             0\n",
              "168308  168308  ...             1\n",
              "311355  311355  ...             1\n",
              "49818    49818  ...             1\n",
              "155059  155059  ...             0\n",
              "349582  349582  ...             0\n",
              "58204    58204  ...             1\n",
              "316307  316307  ...             1\n",
              "272143  272143  ...             1\n",
              "214462  214462  ...             0\n",
              "63944    63944  ...             0\n",
              "343505  343505  ...             0\n",
              "136904  136904  ...             0\n",
              "\n",
              "[22 rows x 6 columns]"
            ]
          },
          "metadata": {},
          "execution_count": 57
        }
      ]
    },
    {
      "cell_type": "code",
      "metadata": {
        "id": "ymRd6Eh6W7da"
      },
      "source": [
        "ones = zeros = 0\n",
        "for i in indices_of_repeated:\n",
        "  if indicator_of_repeted[i]:\n",
        "    # in case there is no rows realted to qid2 use Exception handling\n",
        "    try:\n",
        "      x = (train_data[train_data[\"qid1\"] == i][\"is_duplicate\"]).values\n",
        "      ones += len(x[x == 1])\n",
        "      zeros += len(x[x == 0])\n",
        "    except:\n",
        "      continue"
      ],
      "execution_count": null,
      "outputs": []
    },
    {
      "cell_type": "code",
      "metadata": {
        "id": "X3a0J-v9Xl5S"
      },
      "source": [
        "for i in indices_of_repeated:\n",
        "  if indicator_of_repeted[i]:\n",
        "    # in case there is no rows realted to qid2 use Exception handling\n",
        "    try:\n",
        "      x = (train_data[train_data[\"qid2\"] == i][\"is_duplicate\"]).values\n",
        "      ones += len(x[x == 1])\n",
        "      zeros += len(x[x == 0])\n",
        "    except:\n",
        "      continue"
      ],
      "execution_count": null,
      "outputs": []
    },
    {
      "cell_type": "code",
      "metadata": {
        "colab": {
          "base_uri": "https://localhost:8080/",
          "height": 612
        },
        "id": "JbJv_Ryni0D5",
        "outputId": "42f4610f-9100-4e4d-bd1e-d21f909db95c"
      },
      "source": [
        "plt.figure(figsize = (15, 10))\n",
        "plt.title(\"Total number of repeated questions = {}\".format(ones + zeros), size = 20)\n",
        "plots = sns.barplot(x = [\"Repeated Questions and Not Duplicates\", \"Repeated Questions and Duplicates\"], y = [zeros, ones])\n",
        "for bar in plots.patches:\n",
        "  plt.annotate(int(bar.get_height()), (bar.get_x() + bar.get_width() / 2, bar.get_height() / 2), \n",
        "               size = 30, ha = \"center\", va = \"center\", color = \"white\")\n",
        "i = 0\n",
        "for bar in plots.patches:\n",
        "  if i == 0:\n",
        "    plt.annotate(\"{}%\".format(round((zeros / (ones + zeros)) * 100, 2)), (bar.get_x() + bar.get_width() / 2, bar.get_height() + 66), \n",
        "               size = 20, ha = \"center\", va = \"center\")\n",
        "    i += 1\n",
        "  else:\n",
        "    plt.annotate(\"{}%\".format(round((ones / (ones + zeros)) * 100, 2)), (bar.get_x() + bar.get_width() / 2, bar.get_height() + 66),\n",
        "               size = 20, ha = \"center\", va = \"center\")\n",
        "plt.show()"
      ],
      "execution_count": null,
      "outputs": [
        {
          "output_type": "display_data",
          "data": {
            "image/png": "[encoded data removed]",
            "text/plain": [
              "<Figure size 1080x720 with 1 Axes>"
            ]
          },
          "metadata": {
            "needs_background": "light"
          }
        }
      ]
    },
    {
      "cell_type": "markdown",
      "metadata": {
        "id": "Vwpi8icaLEtd"
      },
      "source": [
        "So about 2 / 3 of repeated questions is not-duplicate and 1 / 3 is duplicate, given that fact we can desing realted feature which indicate wheater this quesion is repeated or not."
      ]
    },
    {
      "cell_type": "markdown",
      "metadata": {
        "id": "xK6-lE_aqnf2"
      },
      "source": [
        "We have also notices that some of the rows in question1 and question2 containt non-ascii characters, we will take care of them in the preprocessing stage."
      ]
    },
    {
      "cell_type": "code",
      "metadata": {
        "id": "tVj_5_QFct42"
      },
      "source": [
        "train_data.to_csv(\"/content/Data/train_data.csv\")\n",
        "test_data.to_csv(\"/content/Data/test_data.csv\")"
      ],
      "execution_count": 25,
      "outputs": []
    }
  ]
}