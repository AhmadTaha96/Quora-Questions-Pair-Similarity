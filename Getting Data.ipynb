{
  "nbformat": 4,
  "nbformat_minor": 0,
  "metadata": {
    "colab": {
      "name": "Getting Data.ipynb",
      "provenance": [],
      "collapsed_sections": [
        "KGsPT3L4neqz"
      ],
      "authorship_tag": "ABX9TyNj0vUt8W0uqJ4tXoIzZRKA"
    },
    "kernelspec": {
      "name": "python3",
      "display_name": "Python 3"
    },
    "language_info": {
      "name": "python"
    }
  },
  "cells": [
    {
      "cell_type": "markdown",
      "source": [
        "# Importing Libraries"
      ],
      "metadata": {
        "id": "KGsPT3L4neqz"
      }
    },
    {
      "cell_type": "code",
      "execution_count": 1,
      "metadata": {
        "id": "NlM5RwcXgffn"
      },
      "outputs": [],
      "source": [
        "import os\n",
        "import shutil"
      ]
    },
    {
      "cell_type": "markdown",
      "source": [
        "# Get Dataset From Kaggle"
      ],
      "metadata": {
        "id": "98l52Itqnhmn"
      }
    },
    {
      "cell_type": "code",
      "source": [
        "from google.colab import files\n",
        "files.upload()"
      ],
      "metadata": {
        "id": "VYEUXorGnaeF"
      },
      "execution_count": null,
      "outputs": []
    },
    {
      "cell_type": "code",
      "source": [
        "!mkdir -p ~/.kaggle\n",
        "!cp kaggle.json ~/.kaggle/ \n",
        "!chmod 600 ~/.kaggle/kaggle.json "
      ],
      "metadata": {
        "id": "ea0dqzJYyWJz"
      },
      "execution_count": 4,
      "outputs": []
    },
    {
      "cell_type": "code",
      "source": [
        "!kaggle competitions download -c FacebookRecruiting"
      ],
      "metadata": {
        "colab": {
          "base_uri": "https://localhost:8080/"
        },
        "id": "UIXS1RdLybj4",
        "outputId": "af9429ed-1163-4f29-dc90-8e4374f8a80a"
      },
      "execution_count": 12,
      "outputs": [
        {
          "output_type": "stream",
          "name": "stdout",
          "text": [
            "Warning: Looks like you're using an outdated API Version, please consider updating (server 1.5.12 / client 1.5.4)\n",
            "Downloading test.csv.zip to /content\n",
            "  0% 0.00/619k [00:00<?, ?B/s]\n",
            "100% 619k/619k [00:00<00:00, 10.0MB/s]\n",
            "Downloading random_benchmark.csv.zip to /content\n",
            "  0% 0.00/9.78M [00:00<?, ?B/s]\n",
            "100% 9.78M/9.78M [00:00<00:00, 90.2MB/s]\n",
            "train.gz: Skipping, found more recently modified local copy (use --force to force download)\n",
            "train.zip: Skipping, found more recently modified local copy (use --force to force download)\n",
            "Downloading bfs_benchmark.csv.zip to /content\n",
            "  0% 0.00/8.01M [00:00<?, ?B/s]\n",
            "100% 8.01M/8.01M [00:00<00:00, 73.9MB/s]\n",
            "Downloading train.csv.zip to /content\n",
            " 73% 34.0M/46.7M [00:00<00:00, 125MB/s]\n",
            "100% 46.7M/46.7M [00:00<00:00, 186MB/s]\n",
            "Downloading train.7z to /content\n",
            " 47% 15.0M/32.1M [00:00<00:00, 155MB/s]\n",
            "100% 32.1M/32.1M [00:00<00:00, 205MB/s]\n"
          ]
        }
      ]
    },
    {
      "cell_type": "code",
      "source": [
        "!unzip train.csv.zip"
      ],
      "metadata": {
        "colab": {
          "base_uri": "https://localhost:8080/"
        },
        "id": "-B7wqcyoyeYw",
        "outputId": "92ccbfa0-ff53-4262-b19a-6be2fdc71ed7"
      },
      "execution_count": 13,
      "outputs": [
        {
          "output_type": "stream",
          "name": "stdout",
          "text": [
            "Archive:  train.csv.zip\n",
            "  inflating: train.csv               \n"
          ]
        }
      ]
    },
    {
      "cell_type": "code",
      "source": [
        "os.mkdir(\"Data/\")\n",
        "# create data folder and Move our data files into it\n",
        "shutil.move(\"train.csv\", \"Data/\")"
      ],
      "metadata": {
        "colab": {
          "base_uri": "https://localhost:8080/",
          "height": 35
        },
        "id": "h_XoQx57zJqC",
        "outputId": "a8ac4164-05cb-4e14-d692-2cf147d8b3a5"
      },
      "execution_count": 7,
      "outputs": [
        {
          "output_type": "execute_result",
          "data": {
            "application/vnd.google.colaboratory.intrinsic+json": {
              "type": "string"
            },
            "text/plain": [
              "'Data/train.csv'"
            ]
          },
          "metadata": {},
          "execution_count": 7
        }
      ]
    }
  ]
}