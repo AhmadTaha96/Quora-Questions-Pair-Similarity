{
  "nbformat": 4,
  "nbformat_minor": 0,
  "metadata": {
    "colab": {
      "name": "Quora Question Pair Similarity.ipynb",
      "provenance": [],
      "collapsed_sections": [
        "apwS3Wi0mRQu"
      ]
    },
    "kernelspec": {
      "name": "python3",
      "display_name": "Python 3"
    },
    "language_info": {
      "name": "python"
    }
  },
  "cells": [
    {
      "cell_type": "markdown",
      "metadata": {
        "id": "apwS3Wi0mRQu"
      },
      "source": [
        "# Importing Libraries"
      ]
    },
    {
      "cell_type": "code",
      "metadata": {
        "id": "u_3CZbUmnS1K"
      },
      "source": [
        "import os\n",
        "import shutil"
      ],
      "execution_count": null,
      "outputs": []
    },
    {
      "cell_type": "markdown",
      "metadata": {
        "id": "UPSmiAYk169A"
      },
      "source": [
        "# Get Dataset from Kaggle"
      ]
    },
    {
      "cell_type": "code",
      "metadata": {
        "id": "PUQl9ecI1_Xx"
      },
      "source": [
        "from google.colab import files\n",
        "files.upload()"
      ],
      "execution_count": null,
      "outputs": []
    },
    {
      "cell_type": "code",
      "metadata": {
        "id": "azn83l9C2yQT"
      },
      "source": [
        "!mkdir -p ~/.kaggle\n",
        "!cp kaggle.json ~/.kaggle/"
      ],
      "execution_count": null,
      "outputs": []
    },
    {
      "cell_type": "code",
      "metadata": {
        "colab": {
          "base_uri": "https://localhost:8080/"
        },
        "id": "vrw6tkVA264N",
        "outputId": "bc5ecb3f-c907-4799-f17b-a12e0d0d6d68"
      },
      "source": [
        "!kaggle datasets list -s quora"
      ],
      "execution_count": null,
      "outputs": [
        {
          "output_type": "stream",
          "name": "stdout",
          "text": [
            "Warning: Your Kaggle API key is readable by other users on this system! To fix this, you can run 'chmod 600 /root/.kaggle/kaggle.json'\n",
            "Warning: Looks like you're using an outdated API Version, please consider updating (server 1.5.12 / client 1.5.4)\n",
            "ref                                                     title                                         size  lastUpdated          downloadCount  \n",
            "------------------------------------------------------  -------------------------------------------  -----  -------------------  -------------  \n",
            "quora/question-pairs-dataset                            Question Pairs Dataset                        21MB  2017-02-02 01:26:29           8673  \n",
            "sambit7/first-quora-dataset                             First Quora Dataset Release: Question Pairs   21MB  2017-02-13 17:56:10            763  \n",
            "rishisankineni/text-similarity                          Text Similarity                               55KB  2017-03-19 08:02:56           3657  \n",
            "a11rand0m/quoratextemb                                  quoratextemb                                  12GB  2019-03-27 04:21:28            175  \n",
            "umairnasir14/all-kaggle-questions-on-qoura-dataset      All Kaggle Questions On Quora Dataset         72KB  2020-09-02 09:16:11             57  \n",
            "mysarahmadbhat/quora-duplicate-qns                      Quora Duplicate qns                            6MB  2021-08-12 10:48:56             10  \n",
            "rizdelhi/clean-quora-train-data                         🧨Quora_Insincere_Questions_2018               55MB  2021-02-01 08:31:43             22  \n",
            "rtatman/questionanswer-dataset                          Question-Answer Dataset                        4MB  2017-09-28 18:39:41           6597  \n",
            "loopdigga/quora-question-pairs-russian                  Quora question pairs russian                  25MB  2018-10-03 09:25:50            181  \n",
            "daniboy370/competitions-shakeup                         Competitions Shake-up                        380KB  2020-09-27 14:12:03             39  \n",
            "khaiurl/quora-preprocessing                             Quora Preprocessing                           21MB  2019-09-12 18:36:10              3  \n",
            "skathirmani/quora-insincere-question-prediction         Quora insincere question prediction           55MB  2019-02-04 05:26:05            101  \n",
            "gauravduttakiit/quora-question                          Quora Question                                 9MB  2021-02-22 11:01:19              7  \n",
            "alexgibso/5000-quora-questions-with-earnings            5000 Quora questions with earnings            95KB  2020-09-15 18:17:02             23  \n",
            "louisowen6/quora-paraphrasing-bahasa-indonesia-version  Quora Paraphrasing Bahasa Indonesia Version    5MB  2021-04-23 03:28:37              5  \n",
            "bharath150/quora-assignment                             quora_assignment                               3GB  2020-04-15 16:15:05             23  \n",
            "brumberg/quora-insincere-questions-classification       Quora Insincere competition Leaderboard      617KB  2019-02-17 23:17:25             23  \n",
            "vashistnarayansingh/quora-question-pair                 quora question pair                          506MB  2019-08-19 18:36:50              7  \n",
            "arbazkhan971/quoratext                                  quoratext                                     16MB  2020-03-14 11:50:11              4  \n",
            "zuyaukun/quoraprogram2                                  Quora-program2                               352MB  2019-10-17 10:47:55              7  \n"
          ]
        }
      ]
    },
    {
      "cell_type": "code",
      "metadata": {
        "colab": {
          "base_uri": "https://localhost:8080/"
        },
        "id": "72bhfosv3qWs",
        "outputId": "4724a29f-9da8-40ca-8b5a-befe2c3fad6f"
      },
      "source": [
        "!kaggle datasets download -d quora/question-pairs-dataset"
      ],
      "execution_count": null,
      "outputs": [
        {
          "output_type": "stream",
          "name": "stdout",
          "text": [
            "Warning: Your Kaggle API key is readable by other users on this system! To fix this, you can run 'chmod 600 /root/.kaggle/kaggle.json'\n",
            "Downloading question-pairs-dataset.zip to /content\n",
            " 24% 5.00M/20.8M [00:00<00:00, 36.3MB/s]\n",
            "100% 20.8M/20.8M [00:00<00:00, 82.1MB/s]\n"
          ]
        }
      ]
    },
    {
      "cell_type": "code",
      "metadata": {
        "colab": {
          "base_uri": "https://localhost:8080/"
        },
        "id": "BkjV0oZ439qB",
        "outputId": "cdbbc137-acf3-4259-8f94-25f6f65fb4a6"
      },
      "source": [
        "!ls"
      ],
      "execution_count": null,
      "outputs": [
        {
          "output_type": "stream",
          "name": "stdout",
          "text": [
            "kaggle.json  question-pairs-dataset.zip  sample_data\n"
          ]
        }
      ]
    },
    {
      "cell_type": "code",
      "metadata": {
        "colab": {
          "base_uri": "https://localhost:8080/"
        },
        "id": "zwyNsw8T4CWM",
        "outputId": "4700417d-7440-45fc-85bb-e7dac7eef1dc"
      },
      "source": [
        "!unzip question-pairs-dataset.zip"
      ],
      "execution_count": null,
      "outputs": [
        {
          "output_type": "stream",
          "name": "stdout",
          "text": [
            "Archive:  question-pairs-dataset.zip\n",
            "  inflating: questions.csv           \n"
          ]
        }
      ]
    },
    {
      "cell_type": "code",
      "metadata": {
        "id": "EXmgmItYRz00"
      },
      "source": [
        "os.mkdir(\"/Data\")\n",
        "shutil.move(\"/questions.csv\", \"/Data\")\n",
        "os.remove(\"/question-pairs-dataset.zip\")\n",
        "os.remove(\"/kaggle.json\")"
      ],
      "execution_count": null,
      "outputs": []
    }
  ]
}