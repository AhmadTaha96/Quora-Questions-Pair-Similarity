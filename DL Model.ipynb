{
  "nbformat": 4,
  "nbformat_minor": 0,
  "metadata": {
    "colab": {
      "name": "DL Model.ipynb",
      "provenance": [],
      "collapsed_sections": [
        "n5NT2FHMuqAT",
        "8gnHbPtAuvPK",
        "d24Mftdkzdps",
        "35WLdX9aaZZZ"
      ],
      "mount_file_id": "1BF0QvvaOIhKFCaBn2veaWfj95WS342wX",
      "authorship_tag": "ABX9TyPXaw1bgcTQfOZRTp6Rb7R9"
    },
    "kernelspec": {
      "name": "python3",
      "display_name": "Python 3"
    },
    "language_info": {
      "name": "python"
    },
    "accelerator": "GPU"
  },
  "cells": [
    {
      "cell_type": "markdown",
      "metadata": {
        "id": "n5NT2FHMuqAT"
      },
      "source": [
        "# Importing Libraries"
      ]
    },
    {
      "cell_type": "code",
      "metadata": {
        "id": "Uivf8KoprnGe"
      },
      "source": [
        "import numpy as np\n",
        "import pandas as pd\n",
        "import matplotlib.pyplot as plt\n",
        "import seaborn as sns\n",
        "from sklearn.metrics import log_loss, accuracy_score, confusion_matrix, precision_score, recall_score\n",
        "from sklearn.preprocessing import MinMaxScaler\n",
        "import shutil\n",
        "import tensorflow as tf\n",
        "from tensorflow.keras.layers import Dense, Dropout\n",
        "from tensorflow.keras.models import Sequential"
      ],
      "execution_count": 1,
      "outputs": []
    },
    {
      "cell_type": "markdown",
      "metadata": {
        "id": "8gnHbPtAuvPK"
      },
      "source": [
        "# Design DL Model"
      ]
    },
    {
      "cell_type": "code",
      "metadata": {
        "id": "MVEhWGUGuw7f"
      },
      "source": [
        "# Reading data with original 69 Features\n",
        "train_data = pd.read_csv(\"Data/train_data.csv\", compression = \"bz2\")\n",
        "test_data = pd.read_csv(\"Data/test_data.csv\", compression = \"bz2\")\n",
        "\n",
        "# Reading questions-based features\n",
        "train_vectors = pd.read_pickle(\"train_vectors.pkl\", compression = \"bz2\")\n",
        "test_vectors = pd.read_pickle(\"test_vectors.pkl\", compression = \"bz2\")"
      ],
      "execution_count": 7,
      "outputs": []
    },
    {
      "cell_type": "code",
      "metadata": {
        "colab": {
          "base_uri": "https://localhost:8080/"
        },
        "id": "WhU-FQ11g8lC",
        "outputId": "c2ed4dac-1a39-4e2b-d787-f8a0110d4390"
      },
      "source": [
        "print(\"Number of rows in train data =\", train_data.shape[0])\n",
        "print(\"Number of columns in train data =\", train_data.shape[1])"
      ],
      "execution_count": 8,
      "outputs": [
        {
          "output_type": "stream",
          "name": "stdout",
          "text": [
            "Number of rows in train data = 323443\n",
            "Number of columns in train data = 69\n"
          ]
        }
      ]
    },
    {
      "cell_type": "code",
      "metadata": {
        "colab": {
          "base_uri": "https://localhost:8080/"
        },
        "id": "HCUVwS-Shs3g",
        "outputId": "a82efb3b-6e59-470d-90e1-40a95e4315c5"
      },
      "source": [
        "print(\"Number of rows in test data =\", test_data.shape[0])\n",
        "print(\"Number of columns in test data =\", test_data.shape[1])"
      ],
      "execution_count": 9,
      "outputs": [
        {
          "output_type": "stream",
          "name": "stdout",
          "text": [
            "Number of rows in test data = 80868\n",
            "Number of columns in test data = 69\n"
          ]
        }
      ]
    },
    {
      "cell_type": "code",
      "metadata": {
        "colab": {
          "base_uri": "https://localhost:8080/"
        },
        "id": "HqTJD1gshtCE",
        "outputId": "cd36cc7d-28a0-402a-a19a-075393ece73b"
      },
      "source": [
        "print(\"Number of rows in train vectors =\", train_vectors.shape[0])\n",
        "print(\"Number of columns in train vectors =\", train_vectors.shape[1])"
      ],
      "execution_count": 10,
      "outputs": [
        {
          "output_type": "stream",
          "name": "stdout",
          "text": [
            "Number of rows in train vectors = 323443\n",
            "Number of columns in train vectors = 300\n"
          ]
        }
      ]
    },
    {
      "cell_type": "code",
      "metadata": {
        "colab": {
          "base_uri": "https://localhost:8080/"
        },
        "id": "t2lYoe89htJq",
        "outputId": "f232b3a7-54e2-4ace-9cf8-52e6d044098b"
      },
      "source": [
        "print(\"Number of rows in train vectors =\", test_vectors.shape[0])\n",
        "print(\"Number of columns in train vectors =\", test_vectors.shape[1])"
      ],
      "execution_count": 11,
      "outputs": [
        {
          "output_type": "stream",
          "name": "stdout",
          "text": [
            "Number of rows in train vectors = 80868\n",
            "Number of columns in train vectors = 300\n"
          ]
        }
      ]
    },
    {
      "cell_type": "markdown",
      "metadata": {
        "id": "DYUnJzQAh8rH"
      },
      "source": [
        "Now we will choose the columns we need out of our original features space, it seem to say that the features i designed using log transformation caused some problem when applying log on zero or near-zero values, and that has impacted a wide range on data, so i choose to discard those feautres and drop them out of features space.\n",
        "\n",
        "If we choose to let them, we have to modify log transformation we have applied on the data so we don't have to do log on zero values as in our first processing, and there is various way to fix this issues."
      ]
    },
    {
      "cell_type": "code",
      "metadata": {
        "id": "kULqO-YC0-UY"
      },
      "source": [
        "cols = ['question1_len', 'question2_len', 'question1_freq',\n",
        "       'question2_freq', 'len_diff', 'question1_n_words', 'question2_n_words',\n",
        "       'words_diff', 'words_common', 'words_share', 'frequency_sum',\n",
        "       'frequency_diff', 'words_share_square',\n",
        "       'words_common_square', 'cw_to_min_c', 'cw_to_max_c', 'cs_to_min_c',\n",
        "       'cs_to_max_c', 'ct_to_min_c', 'ct_to_max_c', 'last_equal',\n",
        "       'first_equal', 'tokens_diff', 'sequence_matcher',\n",
        "       'levenshtein_distance', 'token_set_ratio', 'token_sort_ratio',\n",
        "       'fuzzy_ratio', 'fuzzy_partial_ratio', 'lognest_substring_ratio',\n",
        "       'ecludian_distance', 'ct_to_max_c_root', 'ct_to_max_c_sin',\n",
        "       'ct_to_min_c_cos', 'ct_to_min_c_root','ct_to_min_c_sin', 'ct_to_min_c_square', \n",
        "        'cw_to_min_c_root','cw_to_min_c_cos', 'cw_to_max_c_root', 'cw_to_max_c_sin',\n",
        "       'levenshtein_distance_root','levenshtein_distance_sin','lognest_substring_ratio_sin',\n",
        "       'fuzzy_ratio_root', 'fuzzy_partial_ratio_root', 'token_sort_ratio_root',\n",
        "       'token_sort_ratio_square', 'token_set_ratio_root',\n",
        "       'sequence_matcher_cos', 'sequence_matcher_root',\n",
        "       'sequence_matcher_sin', 'sequence_matcher_square',\n",
        "       'sequence_matcher_cube', \"is_duplicate\"]\n",
        "      \n",
        "train_data = train_data[cols]\n",
        "test_data = test_data[cols]"
      ],
      "execution_count": 12,
      "outputs": []
    },
    {
      "cell_type": "code",
      "metadata": {
        "id": "Ve0cwsh70_fh"
      },
      "source": [
        "y_test = test_data[[\"is_duplicate\"]]\n",
        "y_train = train_data[[\"is_duplicate\"]]\n",
        "\n",
        "train_data.drop([\"is_duplicate\"], axis = 1, inplace = True)\n",
        "test_data.drop([\"is_duplicate\"], axis = 1, inplace = True)\n",
        "\n",
        "x_train = train_data\n",
        "x_test = test_data"
      ],
      "execution_count": 13,
      "outputs": []
    },
    {
      "cell_type": "code",
      "metadata": {
        "colab": {
          "base_uri": "https://localhost:8080/"
        },
        "id": "9mWYq9tGiwvo",
        "outputId": "bc1b7790-32f5-4e05-c461-c7e6cb091eed"
      },
      "source": [
        "print(\"Number of rows in x_train =\", x_train.shape[0])\n",
        "print(\"Number of columns in x_train =\", x_train.shape[1])"
      ],
      "execution_count": null,
      "outputs": [
        {
          "output_type": "stream",
          "name": "stdout",
          "text": [
            "Number of rows in x_train = 323443\n",
            "Number of columns in x_train = 54\n"
          ]
        }
      ]
    },
    {
      "cell_type": "code",
      "metadata": {
        "colab": {
          "base_uri": "https://localhost:8080/"
        },
        "id": "xZJCXoHsi6cJ",
        "outputId": "0e4ed220-45ba-4ff6-a383-4daa87c94362"
      },
      "source": [
        "print(\"Number of rows in x_test =\", x_test.shape[0])\n",
        "print(\"Number of columns in x_test =\", x_test.shape[1])"
      ],
      "execution_count": null,
      "outputs": [
        {
          "output_type": "stream",
          "name": "stdout",
          "text": [
            "Number of rows in x_test = 80868\n",
            "Number of columns in x_test = 54\n"
          ]
        }
      ]
    },
    {
      "cell_type": "markdown",
      "metadata": {
        "id": "gJj8LVpJjI4V"
      },
      "source": [
        "As i intended to use Neural Networks for modeling stage, then i have to apply some kind of scaling on data and it's really important stage for Neural Networks family of algorithms while tree algorithms don't need this stage, so one can think of this stage is algorithm dependent stage."
      ]
    },
    {
      "cell_type": "code",
      "metadata": {
        "id": "ER6wl5pZ1KUA"
      },
      "source": [
        "scaler = MinMaxScaler()\n",
        "x_train = scaler.fit_transform(x_train)\n",
        "x_test = scaler.transform(x_test)"
      ],
      "execution_count": 14,
      "outputs": []
    },
    {
      "cell_type": "code",
      "metadata": {
        "id": "7qtxN3oX1LkX"
      },
      "source": [
        "# Mergin original features with questions vectors\n",
        "\n",
        "x_train = np.hstack((x_train ,train_vectors))\n",
        "x_test = np.hstack((x_test,  test_vectors))"
      ],
      "execution_count": 15,
      "outputs": []
    },
    {
      "cell_type": "markdown",
      "metadata": {
        "id": "srX6R1i7jyTN"
      },
      "source": [
        "Now after we have finished calling, mergin aka prepering our data, we have to prepare some validation data to use it in our model so to monitor the best performance, and as we did not split this data at first, we can't take it now for train data so we have to split it from test data as follow."
      ]
    },
    {
      "cell_type": "code",
      "metadata": {
        "id": "Qj_Li99E1aUX"
      },
      "source": [
        "x_valid = x_test[-30000:]\n",
        "y_valid = y_test[-30000:]\n",
        "\n",
        "x_test = x_test[:-30000]\n",
        "y_test = y_test[:-30000]"
      ],
      "execution_count": 16,
      "outputs": []
    },
    {
      "cell_type": "code",
      "metadata": {
        "id": "KjJxwyss1c5z"
      },
      "source": [
        "y_train = y_train.values\n",
        "y_valid = y_valid.values\n",
        "y_test = y_test.values\n",
        "\n",
        "\n",
        "y_train = y_train.ravel()\n",
        "y_valid = y_valid.ravel()\n",
        "y_test = y_test.ravel()"
      ],
      "execution_count": 17,
      "outputs": []
    },
    {
      "cell_type": "markdown",
      "metadata": {
        "id": "s5HhbfxNlNAb"
      },
      "source": [
        "Remember our main task is to increase **Precision**, and of course if we do that we don't the **Recall** to drop down, but here let's be more specific, our main concern is to reduce **False Positive** ratio aka **FP**, because **False Positive** means that we have predicted two questions to be duplicate while they are not and that's as i mentioned earlier is really dangerous because in this case whis would yield not related answers to some questions and that is really bad, while if two questions are indeed duplicate and our model predict them to be not duplicate this is bad but not as bad as the previous case but of course we don't want that as well, because in this case our model will not work properly so not predicting anything useful."
      ]
    },
    {
      "cell_type": "code",
      "metadata": {
        "id": "jrzL8C001g8O"
      },
      "source": [
        "model = Sequential([\n",
        "        Dense(1200, activation = \"relu\", kernel_initializer = \"he_normal\"),\n",
        "        Dropout(0.5),\n",
        "        Dense(2000, activation = \"relu\", kernel_initializer = \"he_normal\"),\n",
        "        Dropout(0.5),\n",
        "        Dense(5000, activation = \"relu\", kernel_initializer = \"he_normal\"),\n",
        "        Dropout(0.5),\n",
        "        Dense(1, activation = \"sigmoid\")\n",
        "])"
      ],
      "execution_count": null,
      "outputs": []
    },
    {
      "cell_type": "code",
      "metadata": {
        "id": "S9g6W27M1hNs"
      },
      "source": [
        "model.compile(loss = \"BinaryCrossentropy\", optimizer = \"Adam\", metrics = [\"accuracy\", \"Precision\"])\n",
        "cb = tf.keras.callbacks.ModelCheckpoint(    \n",
        "    filepath = \"/model.h5\",\n",
        "    monitor = \"val_precision\",\n",
        "    mode = 'min',\n",
        "    save_best_only = True)"
      ],
      "execution_count": null,
      "outputs": []
    },
    {
      "cell_type": "code",
      "metadata": {
        "id": "gFOa3WUr1jjd"
      },
      "source": [
        "# we can use it as class weights, that would balance the classes but i don't prefre this way\n",
        "# cw = {1 : 1.35394114,\n",
        "#       0 : 0.79276022}"
      ],
      "execution_count": null,
      "outputs": []
    },
    {
      "cell_type": "code",
      "metadata": {
        "id": "NwYxFC8x1j2G"
      },
      "source": [
        "history = model.fit(x_train, y_train, batch_size = 4096, epochs = 50, validation_data = (x_valid, y_valid), workers = 2, use_multiprocessing = True, callbacks = [cb])"
      ],
      "execution_count": null,
      "outputs": []
    },
    {
      "cell_type": "code",
      "metadata": {
        "id": "p0DBQGZR1pyT"
      },
      "source": [
        "# to save the model\n",
        "# tf.keras.models.save_model(model, \"/model.h5\")"
      ],
      "execution_count": null,
      "outputs": []
    },
    {
      "cell_type": "code",
      "metadata": {
        "colab": {
          "base_uri": "https://localhost:8080/"
        },
        "id": "1vY6D-UTyGUG",
        "outputId": "12bceeb8-f674-4b2e-b74e-27d187df5ffd"
      },
      "source": [
        "model.evaluate(x_train, y_train)"
      ],
      "execution_count": 21,
      "outputs": [
        {
          "output_type": "stream",
          "name": "stdout",
          "text": [
            "10108/10108 [==============================] - 60s 6ms/step - loss: 0.2783 - accuracy: 0.8485 - precision: 0.9804\n"
          ]
        },
        {
          "output_type": "execute_result",
          "data": {
            "text/plain": [
              "[0.2782730162143707, 0.8484802842140198, 0.98041170835495]"
            ]
          },
          "metadata": {},
          "execution_count": 21
        }
      ]
    },
    {
      "cell_type": "markdown",
      "metadata": {
        "id": "FK3qLTurzmTs"
      },
      "source": [
        "**Train Data:**\n",
        "\n",
        "Log Loss: 0.2783\n",
        "\n",
        "accuracy: 84.85%\n",
        "\n",
        "Precision: 98"
      ]
    },
    {
      "cell_type": "code",
      "metadata": {
        "colab": {
          "base_uri": "https://localhost:8080/"
        },
        "id": "yjndPJhuyIiM",
        "outputId": "f7070100-5b3a-425b-f202-fd252413b7fa"
      },
      "source": [
        "model.evaluate(x_valid, y_valid)"
      ],
      "execution_count": 22,
      "outputs": [
        {
          "output_type": "stream",
          "name": "stdout",
          "text": [
            "938/938 [==============================] - 6s 6ms/step - loss: 0.4519 - accuracy: 0.7847 - precision: 0.8887\n"
          ]
        },
        {
          "output_type": "execute_result",
          "data": {
            "text/plain": [
              "[0.451887845993042, 0.7846666574478149, 0.8886594176292419]"
            ]
          },
          "metadata": {},
          "execution_count": 22
        }
      ]
    },
    {
      "cell_type": "markdown",
      "metadata": {
        "id": "Kuj8y64Dzzn0"
      },
      "source": [
        "**Validation Data:**\n",
        "\n",
        "Log Loss: 0.45\n",
        "\n",
        "accuracy: 78.47%\n",
        "\n",
        "Precision: 88.87"
      ]
    },
    {
      "cell_type": "markdown",
      "metadata": {
        "id": "8-Zpvu37T4gx"
      },
      "source": [
        "Even though there is about 0.18 gap between train loss and valid loss but that model is very good in term of precision and to verify that let's check the confusion matrix of this model, Not to mention that this model is really fast in term of prediction even though it's not a critical business requirments but still nice to have."
      ]
    },
    {
      "cell_type": "code",
      "metadata": {
        "id": "pHYgvONw11IO"
      },
      "source": [
        "y_train_pred = model.predict(x_train)\n",
        "y_valid_pred = model.predict(x_valid)"
      ],
      "execution_count": 23,
      "outputs": []
    },
    {
      "cell_type": "markdown",
      "metadata": {
        "id": "3JqZVnzUUWmO"
      },
      "source": [
        "As usual we would choose 0.5 to be our threshold [incluside, exclusive]"
      ]
    },
    {
      "cell_type": "code",
      "metadata": {
        "id": "Zoc6oVZ514Fp"
      },
      "source": [
        "y_train_pred1 = (y_train_pred >= 0.5)\n",
        "y_valid_pred1 = (y_valid_pred >= 0.5)"
      ],
      "execution_count": 24,
      "outputs": []
    },
    {
      "cell_type": "code",
      "metadata": {
        "id": "01woKQgF159S"
      },
      "source": [
        "y_train_pred2 = (y_train_pred >= 0.6)\n",
        "y_valid_pred2 = (y_valid_pred >= 0.6)"
      ],
      "execution_count": 37,
      "outputs": []
    },
    {
      "cell_type": "code",
      "metadata": {
        "id": "FDoH0zrk17Mk",
        "colab": {
          "base_uri": "https://localhost:8080/",
          "height": 499
        },
        "outputId": "d9428fb2-09b5-4a27-927b-f936b3a6af8b"
      },
      "source": [
        "plt.figure(figsize = (10, 8))\n",
        "sns.heatmap(confusion_matrix(y_train , y_train_pred1), annot = True, fmt = \"d\", cmap = \"Blues\")\n",
        "plt.title(\"Confusion Matrix For Train Data >= 0.5\")\n",
        "plt.show()"
      ],
      "execution_count": 26,
      "outputs": [
        {
          "output_type": "display_data",
          "data": {
            "image/png": "[encoded data removed]",
            "text/plain": [
              "<Figure size 720x576 with 2 Axes>"
            ]
          },
          "metadata": {
            "needs_background": "light"
          }
        }
      ]
    },
    {
      "cell_type": "code",
      "metadata": {
        "id": "_cBQgtQ018ta",
        "colab": {
          "base_uri": "https://localhost:8080/",
          "height": 499
        },
        "outputId": "49862975-0034-4872-dfd8-6d947af3d5e8"
      },
      "source": [
        "plt.figure(figsize = (10, 8))\n",
        "sns.heatmap(confusion_matrix(y_valid , y_valid_pred1), annot = True, fmt = \"d\", cmap = \"Blues\")\n",
        "plt.title(\"Confusion Matrix For Valid Data >= 0.5\")\n",
        "plt.show()"
      ],
      "execution_count": 27,
      "outputs": [
        {
          "output_type": "display_data",
          "data": {
            "image/png": "[encoded data removed]",
            "text/plain": [
              "<Figure size 720x576 with 2 Axes>"
            ]
          },
          "metadata": {
            "needs_background": "light"
          }
        }
      ]
    },
    {
      "cell_type": "code",
      "metadata": {
        "id": "kZI9jhI91-Nr",
        "colab": {
          "base_uri": "https://localhost:8080/",
          "height": 499
        },
        "outputId": "d816d008-888a-498b-b8c9-c0aa6e89c6a7"
      },
      "source": [
        "plt.figure(figsize = (10, 8))\n",
        "sns.heatmap(confusion_matrix(y_train , y_train_pred2), annot = True, fmt = \"d\", cmap = \"Blues\")\n",
        "plt.title(\"Confusion Matrix For Train Data >= 0.6\")\n",
        "plt.show()"
      ],
      "execution_count": 28,
      "outputs": [
        {
          "output_type": "display_data",
          "data": {
            "image/png": "[encoded data removed]",
            "text/plain": [
              "<Figure size 720x576 with 2 Axes>"
            ]
          },
          "metadata": {
            "needs_background": "light"
          }
        }
      ]
    },
    {
      "cell_type": "code",
      "metadata": {
        "id": "hyskXZ461_8e",
        "colab": {
          "base_uri": "https://localhost:8080/",
          "height": 499
        },
        "outputId": "268195e3-3b5f-41ca-d80f-238882d226c0"
      },
      "source": [
        "plt.figure(figsize = (10, 8))\n",
        "sns.heatmap(confusion_matrix(y_valid , y_valid_pred2), annot = True, fmt = \"d\", cmap = \"Blues\")\n",
        "plt.title(\"Confusion Matrix For Valid Data >= 0.6\")\n",
        "plt.show()"
      ],
      "execution_count": 38,
      "outputs": [
        {
          "output_type": "display_data",
          "data": {
            "image/png": "[encoded data removed]",
            "text/plain": [
              "<Figure size 720x576 with 2 Axes>"
            ]
          },
          "metadata": {
            "needs_background": "light"
          }
        }
      ]
    },
    {
      "cell_type": "markdown",
      "metadata": {
        "id": "3dVIvWE6WM4p"
      },
      "source": [
        "So, This's obvious that the more we increased the threshold even by 0.1 the more we get rid of **False Positive** but that would increase the False Negative as well which cause the **Recall** to drop and our model would just predict only few points as Positive, but our ratio here is resonable as we want our model not to declare any not duplicate pairs as duplicate even if we have to sacrfice the **Recall** here.\n",
        "\n",
        "Something to mention here that our model suffer from uncertinty and that belong the high loss in comparing to **Precision** Score, which means that the model is making a big miskate on small amount of data like predicting positive data point with probability of 0.6 which yield 1 rather than 0.9."
      ]
    },
    {
      "cell_type": "markdown",
      "metadata": {
        "id": "d24Mftdkzdps"
      },
      "source": [
        "# Evaluating DL Model on Test Data"
      ]
    },
    {
      "cell_type": "code",
      "metadata": {
        "colab": {
          "base_uri": "https://localhost:8080/"
        },
        "id": "fjBmOk69zgYF",
        "outputId": "08fb04de-13a0-435e-def8-6fb5504262e0"
      },
      "source": [
        "model.evaluate(x_test, y_test)"
      ],
      "execution_count": 30,
      "outputs": [
        {
          "output_type": "stream",
          "name": "stdout",
          "text": [
            "1590/1590 [==============================] - 9s 6ms/step - loss: 0.4554 - accuracy: 0.7815 - precision: 0.8949\n"
          ]
        },
        {
          "output_type": "execute_result",
          "data": {
            "text/plain": [
              "[0.4553895890712738, 0.7814736366271973, 0.8948759436607361]"
            ]
          },
          "metadata": {},
          "execution_count": 30
        }
      ]
    },
    {
      "cell_type": "markdown",
      "metadata": {
        "id": "mta6BhWHz7kc"
      },
      "source": [
        "**Test Data:**\n",
        "\n",
        "Log Loss: 0.4554\n",
        "\n",
        "accuracy: 78.15%\n",
        "\n",
        "Precision: 89.49"
      ]
    },
    {
      "cell_type": "code",
      "metadata": {
        "id": "iQSs6t03zi-G"
      },
      "source": [
        "y_test_pred = model.predict(x_test)"
      ],
      "execution_count": 33,
      "outputs": []
    },
    {
      "cell_type": "code",
      "metadata": {
        "id": "JDgfwPr00Hcp"
      },
      "source": [
        "y_test_pred1 = (y_test_pred >= 0.5)\n",
        "\n",
        "y_test_pred2 = (y_test_pred >= 0.6)"
      ],
      "execution_count": 34,
      "outputs": []
    },
    {
      "cell_type": "code",
      "metadata": {
        "colab": {
          "base_uri": "https://localhost:8080/",
          "height": 499
        },
        "id": "-YEAQl-E0HvL",
        "outputId": "e7cdfa7b-8e5d-4a07-933d-b77ce32a6e3b"
      },
      "source": [
        "plt.figure(figsize = (10, 8))\n",
        "sns.heatmap(confusion_matrix(y_test , y_test_pred1), annot = True, fmt = \"d\", cmap = \"Blues\")\n",
        "plt.title(\"Confusion Matrix For Test Data\")\n",
        "plt.show()"
      ],
      "execution_count": 35,
      "outputs": [
        {
          "output_type": "display_data",
          "data": {
            "image/png": "[encoded data removed]",
            "text/plain": [
              "<Figure size 720x576 with 2 Axes>"
            ]
          },
          "metadata": {
            "needs_background": "light"
          }
        }
      ]
    },
    {
      "cell_type": "code",
      "metadata": {
        "colab": {
          "base_uri": "https://localhost:8080/",
          "height": 499
        },
        "id": "D_wjK2Z-0KF2",
        "outputId": "dad81cb0-b47f-4ffd-cc3e-6166df893e89"
      },
      "source": [
        "plt.figure(figsize = (10, 8))\n",
        "sns.heatmap(confusion_matrix(y_test , y_test_pred2), annot = True, fmt = \"d\", cmap = \"Blues\")\n",
        "plt.title(\"Confusion Matrix For Test Data >= 0.6\")\n",
        "plt.show()"
      ],
      "execution_count": 36,
      "outputs": [
        {
          "output_type": "display_data",
          "data": {
            "image/png": "[encoded data removed]",
            "text/plain": [
              "<Figure size 720x576 with 2 Axes>"
            ]
          },
          "metadata": {
            "needs_background": "light"
          }
        }
      ]
    },
    {
      "cell_type": "markdown",
      "metadata": {
        "id": "35WLdX9aaZZZ"
      },
      "source": [
        "# Further Imporvments"
      ]
    },
    {
      "cell_type": "markdown",
      "metadata": {
        "id": "bli9IKGhbkQU"
      },
      "source": [
        "1.   Try In-Depth more features related to questions statistics in Quora DataBase.\n",
        "\n",
        "2.   Use diffrent Word to Vectors algorithm to process questions and to design vectors out of words and phrases.\n",
        "\n",
        "3. Try another ML algorithm for example Stacking or RF or another GBDT package like LightGBM or XGBoost."
      ]
    }
  ]
}
